{
 "cells": [
  {
   "cell_type": "code",
   "execution_count": 1,
   "metadata": {},
   "outputs": [],
   "source": [
    "# Import necessary libraries\n",
    "import numpy as np\n",
    "import pandas as pd\n",
    "import music21 as m21 # Used for music data processing, analysis, metadata extraction, etc. \n",
    "import mido as md # Used for MIDI file visualization and manipulation\n",
    "import pretty_midi as pm \n",
    "import librosa as lb\n",
    "import fractions\n",
    "import glob\n",
    "import time\n",
    "import os\n",
    "import fluidsynth as fs # For MIDI playback as MP3/WAV files\n",
    "import matplotlib.pyplot as plt\n",
    "from multiprocessing import Pool, Process"
   ]
  },
  {
   "cell_type": "code",
   "execution_count": 2,
   "metadata": {},
   "outputs": [
    {
     "data": {
      "text/html": [
       "<div>\n",
       "<style scoped>\n",
       "    .dataframe tbody tr th:only-of-type {\n",
       "        vertical-align: middle;\n",
       "    }\n",
       "\n",
       "    .dataframe tbody tr th {\n",
       "        vertical-align: top;\n",
       "    }\n",
       "\n",
       "    .dataframe thead th {\n",
       "        text-align: right;\n",
       "    }\n",
       "</style>\n",
       "<table border=\"1\" class=\"dataframe\">\n",
       "  <thead>\n",
       "    <tr style=\"text-align: right;\">\n",
       "      <th></th>\n",
       "      <th>file_paths</th>\n",
       "      <th>song_names</th>\n",
       "      <th>artists</th>\n",
       "    </tr>\n",
       "  </thead>\n",
       "  <tbody>\n",
       "    <tr>\n",
       "      <th>0</th>\n",
       "      <td>Data\\Archive\\.38 Special\\Caught Up In You.mid</td>\n",
       "      <td>Caught Up In You</td>\n",
       "      <td>38 Special</td>\n",
       "    </tr>\n",
       "    <tr>\n",
       "      <th>1</th>\n",
       "      <td>Data\\Archive\\.38 Special\\Fantasy Girl.mid</td>\n",
       "      <td>Fantasy Girl</td>\n",
       "      <td>38 Special</td>\n",
       "    </tr>\n",
       "    <tr>\n",
       "      <th>2</th>\n",
       "      <td>Data\\Archive\\10,000_Maniacs\\A_Campfire_Song.mid</td>\n",
       "      <td>A Campfire Song</td>\n",
       "      <td>10,000 Maniacs</td>\n",
       "    </tr>\n",
       "    <tr>\n",
       "      <th>3</th>\n",
       "      <td>Data\\Archive\\101_Strings\\Theme_From_The_Godfat...</td>\n",
       "      <td>Theme From The Godfather</td>\n",
       "      <td>101 Strings</td>\n",
       "    </tr>\n",
       "    <tr>\n",
       "      <th>4</th>\n",
       "      <td>Data\\Archive\\10cc\\Dreadlock_Holiday.1.mid</td>\n",
       "      <td>Dreadlock Holiday 1</td>\n",
       "      <td>10cc</td>\n",
       "    </tr>\n",
       "    <tr>\n",
       "      <th>...</th>\n",
       "      <td>...</td>\n",
       "      <td>...</td>\n",
       "      <td>...</td>\n",
       "    </tr>\n",
       "    <tr>\n",
       "      <th>17224</th>\n",
       "      <td>Data\\Archive\\ZZ_Top\\Sleeping_Bag.mid</td>\n",
       "      <td>Sleeping Bag</td>\n",
       "      <td>ZZ Top</td>\n",
       "    </tr>\n",
       "    <tr>\n",
       "      <th>17225</th>\n",
       "      <td>Data\\Archive\\ZZ_Top\\Tush.1.mid</td>\n",
       "      <td>Tush 1</td>\n",
       "      <td>ZZ Top</td>\n",
       "    </tr>\n",
       "    <tr>\n",
       "      <th>17226</th>\n",
       "      <td>Data\\Archive\\ZZ_Top\\Tush.2.mid</td>\n",
       "      <td>Tush 2</td>\n",
       "      <td>ZZ Top</td>\n",
       "    </tr>\n",
       "    <tr>\n",
       "      <th>17227</th>\n",
       "      <td>Data\\Archive\\ZZ_Top\\Tush.mid</td>\n",
       "      <td>Tush</td>\n",
       "      <td>ZZ Top</td>\n",
       "    </tr>\n",
       "    <tr>\n",
       "      <th>17228</th>\n",
       "      <td>Data\\Archive\\ZZ_Top\\Viva_Las_Vegas.mid</td>\n",
       "      <td>Viva Las Vegas</td>\n",
       "      <td>ZZ Top</td>\n",
       "    </tr>\n",
       "  </tbody>\n",
       "</table>\n",
       "<p>17229 rows × 3 columns</p>\n",
       "</div>"
      ],
      "text/plain": [
       "                                              file_paths  \\\n",
       "0          Data\\Archive\\.38 Special\\Caught Up In You.mid   \n",
       "1              Data\\Archive\\.38 Special\\Fantasy Girl.mid   \n",
       "2        Data\\Archive\\10,000_Maniacs\\A_Campfire_Song.mid   \n",
       "3      Data\\Archive\\101_Strings\\Theme_From_The_Godfat...   \n",
       "4              Data\\Archive\\10cc\\Dreadlock_Holiday.1.mid   \n",
       "...                                                  ...   \n",
       "17224               Data\\Archive\\ZZ_Top\\Sleeping_Bag.mid   \n",
       "17225                     Data\\Archive\\ZZ_Top\\Tush.1.mid   \n",
       "17226                     Data\\Archive\\ZZ_Top\\Tush.2.mid   \n",
       "17227                       Data\\Archive\\ZZ_Top\\Tush.mid   \n",
       "17228             Data\\Archive\\ZZ_Top\\Viva_Las_Vegas.mid   \n",
       "\n",
       "                     song_names         artists  \n",
       "0              Caught Up In You      38 Special  \n",
       "1                  Fantasy Girl      38 Special  \n",
       "2               A Campfire Song  10,000 Maniacs  \n",
       "3      Theme From The Godfather     101 Strings  \n",
       "4           Dreadlock Holiday 1            10cc  \n",
       "...                         ...             ...  \n",
       "17224              Sleeping Bag          ZZ Top  \n",
       "17225                    Tush 1          ZZ Top  \n",
       "17226                    Tush 2          ZZ Top  \n",
       "17227                      Tush          ZZ Top  \n",
       "17228            Viva Las Vegas          ZZ Top  \n",
       "\n",
       "[17229 rows x 3 columns]"
      ]
     },
     "execution_count": 2,
     "metadata": {},
     "output_type": "execute_result"
    }
   ],
   "source": [
    "df = pd.read_csv(\"Data\\\\Preprocessed\\\\file_info_processed.csv\")\n",
    "\n",
    "FilePaths = df[\"file_paths\"]\n",
    "SongNames = df[\"song_names\"]\n",
    "Artists = df[\"artists\"]\n",
    "\n",
    "df"
   ]
  },
  {
   "cell_type": "code",
   "execution_count": 3,
   "metadata": {},
   "outputs": [],
   "source": [
    "def get_meta(midi_file):\n",
    "    score = m21.converter.parse(midi_file)\n",
    "    print(type(score), \"\\n\")\n",
    "    key = score.analyze(\"key\")\n",
    "    time_signature = score.getTimeSignatures()[0]\n",
    "    tempo_mark = score.metronomeMarkBoundaries()[0]\n",
    "    duration = score._getDuration()\n",
    "    tempo = tempo_mark[2]\n",
    "\n",
    "    print(\"Key: \", key, \" , Type: \", type(key))\n",
    "    print(\"Time Signature: \", time_signature, \" , Type: \", type(time_signature))\n",
    "    print(\"Duration: \", duration, \" , Type: \", type(duration))\n",
    "    print(\"Tempo: \", tempo, \" , Type: \", type(tempo))\n",
    "\n",
    "    print()\n",
    "\n",
    "    print(\"Key: \", key.name)\n",
    "    print(\"Time Signature: \", time_signature.ratioString)\n",
    "    print(\"Duration: \", duration.quarterLength)\n",
    "    print(\"Tempo: \", tempo.number)\n",
    "\n",
    "    return key, time_signature, duration, tempo"
   ]
  },
  {
   "cell_type": "code",
   "execution_count": 4,
   "metadata": {},
   "outputs": [
    {
     "name": "stdout",
     "output_type": "stream",
     "text": [
      "<class 'music21.stream.base.Score'> \n",
      "\n",
      "Key:  C major  , Type:  <class 'music21.key.Key'>\n",
      "Time Signature:  <music21.meter.TimeSignature 4/4>  , Type:  <class 'music21.meter.base.TimeSignature'>\n",
      "Duration:  <music21.duration.Duration 1094/3>  , Type:  <class 'music21.duration.Duration'>\n",
      "Tempo:  <music21.tempo.MetronomeMark Quarter=115>  , Type:  <class 'music21.tempo.MetronomeMark'>\n",
      "\n",
      "Key:  C major\n",
      "Time Signature:  4/4\n",
      "Duration:  1094/3\n",
      "Tempo:  115\n"
     ]
    }
   ],
   "source": [
    "# Test metadata extraction\n",
    "x = get_meta(FilePaths[204])"
   ]
  },
  {
   "cell_type": "code",
   "execution_count": 5,
   "metadata": {},
   "outputs": [
    {
     "name": "stdout",
     "output_type": "stream",
     "text": [
      "(<music21.key.Key of C major>, <music21.meter.TimeSignature 4/4>, <music21.duration.Duration 1094/3>, <music21.tempo.MetronomeMark Quarter=115>)\n",
      "<class 'tuple'>\n",
      "C major <class 'str'>\n",
      "4/4 <class 'str'>\n",
      "1094/3 <class 'fractions.Fraction'>\n",
      "115 <class 'int'>\n"
     ]
    }
   ],
   "source": [
    "print(x)\n",
    "print(type(x))\n",
    "\n",
    "key = x[0].name\n",
    "time_signature = x[1].ratioString\n",
    "duration = x[2].quarterLength\n",
    "tempo = x[3].number\n",
    "\n",
    "print(key, type(key))\n",
    "print(time_signature, type(time_signature))\n",
    "print(duration, type(duration))\n",
    "print(tempo, type(tempo))"
   ]
  },
  {
   "cell_type": "code",
   "execution_count": 6,
   "metadata": {},
   "outputs": [
    {
     "name": "stdout",
     "output_type": "stream",
     "text": [
      "Duration in seconds: 190.2608695652174\n"
     ]
    }
   ],
   "source": [
    "duration_in_quarter_notes = 1094 / 3  # 1094 divided by 3\n",
    "tempo_in_bpm = 115\n",
    "\n",
    "duration_in_seconds = (duration_in_quarter_notes / tempo_in_bpm) * 60\n",
    "print(\"Duration in seconds:\", duration_in_seconds)"
   ]
  },
  {
   "cell_type": "code",
   "execution_count": 7,
   "metadata": {},
   "outputs": [],
   "source": [
    "# Define lists to store metadata, which will be used to add to the DataFrame\n",
    "Keys = []\n",
    "TimeSignatures = []\n",
    "Durations = []\n",
    "Tempos = []\n",
    "# Notes = []"
   ]
  },
  {
   "cell_type": "code",
   "execution_count": 8,
   "metadata": {},
   "outputs": [],
   "source": [
    "# Function to extract metadata from MIDI files\n",
    "def parse_midi(midi_file):\n",
    "    try:\n",
    "        score = m21.converter.parse(midi_file)\n",
    "        return score\n",
    "    except Exception as e:\n",
    "        print(f\"Error processing {midi_file}: {e}\")\n",
    "        return None\n",
    "\n",
    "# Functions for multi-processing, dependent on the function above\n",
    "def get_metadata(midi_file):\n",
    "    metadata = parse_midi(midi_file)\n",
    "    if metadata:\n",
    "        key = metadata.analyze(\"key\").name\n",
    "        time_signature = metadata.getTimeSignatures()[0].ratioString\n",
    "        duration = metadata._getDuration().quarterLength\n",
    "        tempo = metadata.metronomeMarkBoundaries()[0][2].number\n",
    "    else:\n",
    "        key = time_signature = duration = tempo = \"Unknown\"\n",
    "    return key, time_signature, duration, tempo"
   ]
  },
  {
   "cell_type": "code",
   "execution_count": 9,
   "metadata": {},
   "outputs": [],
   "source": [
    "# Process each MIDI file and collect metadata\n",
    "def process_midi_file(midi_file):\n",
    "    key, time_signature, duration, tempo = get_metadata(midi_file)\n",
    "    return key, time_signature, duration, tempo"
   ]
  },
  {
   "cell_type": "code",
   "execution_count": 10,
   "metadata": {},
   "outputs": [],
   "source": [
    "songs = FilePaths\n",
    "# Initialize the pool of workers\n",
    "with Pool() as pool:\n",
    "    metadata_list = pool.map(process_midi_file, songs)"
   ]
  },
  {
   "cell_type": "code",
   "execution_count": null,
   "metadata": {},
   "outputs": [],
   "source": [
    "Keys, TimeSignatures, Durations, Tempos = zip(*metadata_list)"
   ]
  },
  {
   "cell_type": "code",
   "execution_count": null,
   "metadata": {},
   "outputs": [
    {
     "name": "stdout",
     "output_type": "stream",
     "text": [
      "[]\n"
     ]
    }
   ],
   "source": [
    "print(Keys)"
   ]
  },
  {
   "cell_type": "code",
   "execution_count": null,
   "metadata": {},
   "outputs": [
    {
     "ename": "ValueError",
     "evalue": "Length of values (0) does not match length of index (17229)",
     "output_type": "error",
     "traceback": [
      "\u001b[1;31m---------------------------------------------------------------------------\u001b[0m",
      "\u001b[1;31mValueError\u001b[0m                                Traceback (most recent call last)",
      "Cell \u001b[1;32mIn[17], line 1\u001b[0m\n\u001b[1;32m----> 1\u001b[0m \u001b[43mdf\u001b[49m\u001b[43m[\u001b[49m\u001b[38;5;124;43m\"\u001b[39;49m\u001b[38;5;124;43mkeys\u001b[39;49m\u001b[38;5;124;43m\"\u001b[39;49m\u001b[43m]\u001b[49m \u001b[38;5;241m=\u001b[39m Keys\n\u001b[0;32m      2\u001b[0m df[\u001b[38;5;124m\"\u001b[39m\u001b[38;5;124mtime_signatures\u001b[39m\u001b[38;5;124m\"\u001b[39m] \u001b[38;5;241m=\u001b[39m TimeSignatures\n\u001b[0;32m      3\u001b[0m df[\u001b[38;5;124m\"\u001b[39m\u001b[38;5;124mdurations\u001b[39m\u001b[38;5;124m\"\u001b[39m] \u001b[38;5;241m=\u001b[39m Durations\n",
      "File \u001b[1;32m~\\AppData\\Local\\Packages\\PythonSoftwareFoundation.Python.3.11_qbz5n2kfra8p0\\LocalCache\\local-packages\\Python311\\site-packages\\pandas\\core\\frame.py:4299\u001b[0m, in \u001b[0;36mDataFrame.__setitem__\u001b[1;34m(self, key, value)\u001b[0m\n\u001b[0;32m   4296\u001b[0m     \u001b[38;5;28mself\u001b[39m\u001b[38;5;241m.\u001b[39m_setitem_array([key], value)\n\u001b[0;32m   4297\u001b[0m \u001b[38;5;28;01melse\u001b[39;00m:\n\u001b[0;32m   4298\u001b[0m     \u001b[38;5;66;03m# set column\u001b[39;00m\n\u001b[1;32m-> 4299\u001b[0m     \u001b[38;5;28;43mself\u001b[39;49m\u001b[38;5;241;43m.\u001b[39;49m\u001b[43m_set_item\u001b[49m\u001b[43m(\u001b[49m\u001b[43mkey\u001b[49m\u001b[43m,\u001b[49m\u001b[43m \u001b[49m\u001b[43mvalue\u001b[49m\u001b[43m)\u001b[49m\n",
      "File \u001b[1;32m~\\AppData\\Local\\Packages\\PythonSoftwareFoundation.Python.3.11_qbz5n2kfra8p0\\LocalCache\\local-packages\\Python311\\site-packages\\pandas\\core\\frame.py:4512\u001b[0m, in \u001b[0;36mDataFrame._set_item\u001b[1;34m(self, key, value)\u001b[0m\n\u001b[0;32m   4502\u001b[0m \u001b[38;5;28;01mdef\u001b[39;00m \u001b[38;5;21m_set_item\u001b[39m(\u001b[38;5;28mself\u001b[39m, key, value) \u001b[38;5;241m-\u001b[39m\u001b[38;5;241m>\u001b[39m \u001b[38;5;28;01mNone\u001b[39;00m:\n\u001b[0;32m   4503\u001b[0m \u001b[38;5;250m    \u001b[39m\u001b[38;5;124;03m\"\"\"\u001b[39;00m\n\u001b[0;32m   4504\u001b[0m \u001b[38;5;124;03m    Add series to DataFrame in specified column.\u001b[39;00m\n\u001b[0;32m   4505\u001b[0m \n\u001b[1;32m   (...)\u001b[0m\n\u001b[0;32m   4510\u001b[0m \u001b[38;5;124;03m    ensure homogeneity.\u001b[39;00m\n\u001b[0;32m   4511\u001b[0m \u001b[38;5;124;03m    \"\"\"\u001b[39;00m\n\u001b[1;32m-> 4512\u001b[0m     value, refs \u001b[38;5;241m=\u001b[39m \u001b[38;5;28;43mself\u001b[39;49m\u001b[38;5;241;43m.\u001b[39;49m\u001b[43m_sanitize_column\u001b[49m\u001b[43m(\u001b[49m\u001b[43mvalue\u001b[49m\u001b[43m)\u001b[49m\n\u001b[0;32m   4514\u001b[0m     \u001b[38;5;28;01mif\u001b[39;00m (\n\u001b[0;32m   4515\u001b[0m         key \u001b[38;5;129;01min\u001b[39;00m \u001b[38;5;28mself\u001b[39m\u001b[38;5;241m.\u001b[39mcolumns\n\u001b[0;32m   4516\u001b[0m         \u001b[38;5;129;01mand\u001b[39;00m value\u001b[38;5;241m.\u001b[39mndim \u001b[38;5;241m==\u001b[39m \u001b[38;5;241m1\u001b[39m\n\u001b[0;32m   4517\u001b[0m         \u001b[38;5;129;01mand\u001b[39;00m \u001b[38;5;129;01mnot\u001b[39;00m \u001b[38;5;28misinstance\u001b[39m(value\u001b[38;5;241m.\u001b[39mdtype, ExtensionDtype)\n\u001b[0;32m   4518\u001b[0m     ):\n\u001b[0;32m   4519\u001b[0m         \u001b[38;5;66;03m# broadcast across multiple columns if necessary\u001b[39;00m\n\u001b[0;32m   4520\u001b[0m         \u001b[38;5;28;01mif\u001b[39;00m \u001b[38;5;129;01mnot\u001b[39;00m \u001b[38;5;28mself\u001b[39m\u001b[38;5;241m.\u001b[39mcolumns\u001b[38;5;241m.\u001b[39mis_unique \u001b[38;5;129;01mor\u001b[39;00m \u001b[38;5;28misinstance\u001b[39m(\u001b[38;5;28mself\u001b[39m\u001b[38;5;241m.\u001b[39mcolumns, MultiIndex):\n",
      "File \u001b[1;32m~\\AppData\\Local\\Packages\\PythonSoftwareFoundation.Python.3.11_qbz5n2kfra8p0\\LocalCache\\local-packages\\Python311\\site-packages\\pandas\\core\\frame.py:5253\u001b[0m, in \u001b[0;36mDataFrame._sanitize_column\u001b[1;34m(self, value)\u001b[0m\n\u001b[0;32m   5250\u001b[0m     \u001b[38;5;28;01mreturn\u001b[39;00m _reindex_for_setitem(value, \u001b[38;5;28mself\u001b[39m\u001b[38;5;241m.\u001b[39mindex)\n\u001b[0;32m   5252\u001b[0m \u001b[38;5;28;01mif\u001b[39;00m is_list_like(value):\n\u001b[1;32m-> 5253\u001b[0m     \u001b[43mcom\u001b[49m\u001b[38;5;241;43m.\u001b[39;49m\u001b[43mrequire_length_match\u001b[49m\u001b[43m(\u001b[49m\u001b[43mvalue\u001b[49m\u001b[43m,\u001b[49m\u001b[43m \u001b[49m\u001b[38;5;28;43mself\u001b[39;49m\u001b[38;5;241;43m.\u001b[39;49m\u001b[43mindex\u001b[49m\u001b[43m)\u001b[49m\n\u001b[0;32m   5254\u001b[0m arr \u001b[38;5;241m=\u001b[39m sanitize_array(value, \u001b[38;5;28mself\u001b[39m\u001b[38;5;241m.\u001b[39mindex, copy\u001b[38;5;241m=\u001b[39m\u001b[38;5;28;01mTrue\u001b[39;00m, allow_2d\u001b[38;5;241m=\u001b[39m\u001b[38;5;28;01mTrue\u001b[39;00m)\n\u001b[0;32m   5255\u001b[0m \u001b[38;5;28;01mif\u001b[39;00m (\n\u001b[0;32m   5256\u001b[0m     \u001b[38;5;28misinstance\u001b[39m(value, Index)\n\u001b[0;32m   5257\u001b[0m     \u001b[38;5;129;01mand\u001b[39;00m value\u001b[38;5;241m.\u001b[39mdtype \u001b[38;5;241m==\u001b[39m \u001b[38;5;124m\"\u001b[39m\u001b[38;5;124mobject\u001b[39m\u001b[38;5;124m\"\u001b[39m\n\u001b[1;32m   (...)\u001b[0m\n\u001b[0;32m   5260\u001b[0m     \u001b[38;5;66;03m# TODO: Remove kludge in sanitize_array for string mode when enforcing\u001b[39;00m\n\u001b[0;32m   5261\u001b[0m     \u001b[38;5;66;03m# this deprecation\u001b[39;00m\n",
      "File \u001b[1;32m~\\AppData\\Local\\Packages\\PythonSoftwareFoundation.Python.3.11_qbz5n2kfra8p0\\LocalCache\\local-packages\\Python311\\site-packages\\pandas\\core\\common.py:573\u001b[0m, in \u001b[0;36mrequire_length_match\u001b[1;34m(data, index)\u001b[0m\n\u001b[0;32m    569\u001b[0m \u001b[38;5;250m\u001b[39m\u001b[38;5;124;03m\"\"\"\u001b[39;00m\n\u001b[0;32m    570\u001b[0m \u001b[38;5;124;03mCheck the length of data matches the length of the index.\u001b[39;00m\n\u001b[0;32m    571\u001b[0m \u001b[38;5;124;03m\"\"\"\u001b[39;00m\n\u001b[0;32m    572\u001b[0m \u001b[38;5;28;01mif\u001b[39;00m \u001b[38;5;28mlen\u001b[39m(data) \u001b[38;5;241m!=\u001b[39m \u001b[38;5;28mlen\u001b[39m(index):\n\u001b[1;32m--> 573\u001b[0m     \u001b[38;5;28;01mraise\u001b[39;00m \u001b[38;5;167;01mValueError\u001b[39;00m(\n\u001b[0;32m    574\u001b[0m         \u001b[38;5;124m\"\u001b[39m\u001b[38;5;124mLength of values \u001b[39m\u001b[38;5;124m\"\u001b[39m\n\u001b[0;32m    575\u001b[0m         \u001b[38;5;124mf\u001b[39m\u001b[38;5;124m\"\u001b[39m\u001b[38;5;124m(\u001b[39m\u001b[38;5;132;01m{\u001b[39;00m\u001b[38;5;28mlen\u001b[39m(data)\u001b[38;5;132;01m}\u001b[39;00m\u001b[38;5;124m) \u001b[39m\u001b[38;5;124m\"\u001b[39m\n\u001b[0;32m    576\u001b[0m         \u001b[38;5;124m\"\u001b[39m\u001b[38;5;124mdoes not match length of index \u001b[39m\u001b[38;5;124m\"\u001b[39m\n\u001b[0;32m    577\u001b[0m         \u001b[38;5;124mf\u001b[39m\u001b[38;5;124m\"\u001b[39m\u001b[38;5;124m(\u001b[39m\u001b[38;5;132;01m{\u001b[39;00m\u001b[38;5;28mlen\u001b[39m(index)\u001b[38;5;132;01m}\u001b[39;00m\u001b[38;5;124m)\u001b[39m\u001b[38;5;124m\"\u001b[39m\n\u001b[0;32m    578\u001b[0m     )\n",
      "\u001b[1;31mValueError\u001b[0m: Length of values (0) does not match length of index (17229)"
     ]
    }
   ],
   "source": [
    "df[\"keys\"] = Keys\n",
    "df[\"time_signatures\"] = TimeSignatures\n",
    "df[\"durations\"] = Durations\n",
    "df[\"tempos\"] = Tempos\n",
    "# df[\"notes\"] = Notes\n",
    "\n",
    "df"
   ]
  }
 ],
 "metadata": {
  "kernelspec": {
   "display_name": "Python 3",
   "language": "python",
   "name": "python3"
  },
  "language_info": {
   "codemirror_mode": {
    "name": "ipython",
    "version": 3
   },
   "file_extension": ".py",
   "mimetype": "text/x-python",
   "name": "python",
   "nbconvert_exporter": "python",
   "pygments_lexer": "ipython3",
   "version": "3.11.9"
  }
 },
 "nbformat": 4,
 "nbformat_minor": 2
}
