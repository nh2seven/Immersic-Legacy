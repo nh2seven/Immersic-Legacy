{
 "cells": [
  {
   "cell_type": "code",
   "execution_count": 7,
   "id": "aee17e00-1ec9-46bb-84bc-f374872564b8",
   "metadata": {},
   "outputs": [],
   "source": [
    "import json\n",
    "from pathlib import Path\n",
    "from music21 import converter, instrument, note, chord"
   ]
  },
  {
   "cell_type": "code",
   "execution_count": 8,
   "id": "bdd261d0-e46c-4d27-abb6-d0ade9867665",
   "metadata": {},
   "outputs": [
    {
     "data": {
      "text/plain": [
       "[WindowsPath('Data/Classical_Archive/albeniz/alb_esp1.mid'),\n",
       " WindowsPath('Data/Classical_Archive/albeniz/alb_esp2.mid'),\n",
       " WindowsPath('Data/Classical_Archive/albeniz/alb_esp3.mid'),\n",
       " WindowsPath('Data/Classical_Archive/albeniz/alb_esp4.mid'),\n",
       " WindowsPath('Data/Classical_Archive/albeniz/alb_esp5.mid'),\n",
       " WindowsPath('Data/Classical_Archive/albeniz/alb_esp6.mid'),\n",
       " WindowsPath('Data/Classical_Archive/albeniz/alb_se1.mid'),\n",
       " WindowsPath('Data/Classical_Archive/albeniz/alb_se2.mid'),\n",
       " WindowsPath('Data/Classical_Archive/albeniz/alb_se3.mid'),\n",
       " WindowsPath('Data/Classical_Archive/albeniz/alb_se4.mid'),\n",
       " WindowsPath('Data/Classical_Archive/albeniz/alb_se5.mid'),\n",
       " WindowsPath('Data/Classical_Archive/albeniz/alb_se6.mid'),\n",
       " WindowsPath('Data/Classical_Archive/albeniz/alb_se7.mid'),\n",
       " WindowsPath('Data/Classical_Archive/albeniz/alb_se8.mid'),\n",
       " WindowsPath('Data/Classical_Archive/bach/bach_846.mid'),\n",
       " WindowsPath('Data/Classical_Archive/bach/bach_847.mid'),\n",
       " WindowsPath('Data/Classical_Archive/bach/bach_850.mid'),\n",
       " WindowsPath('Data/Classical_Archive/balakir/islamei.mid'),\n",
       " WindowsPath('Data/Classical_Archive/beeth/appass_1.mid'),\n",
       " WindowsPath('Data/Classical_Archive/beeth/appass_2.mid'),\n",
       " WindowsPath('Data/Classical_Archive/beeth/appass_3.mid'),\n",
       " WindowsPath('Data/Classical_Archive/beeth/beethoven_hammerklavier_1.mid'),\n",
       " WindowsPath('Data/Classical_Archive/beeth/beethoven_hammerklavier_2.mid'),\n",
       " WindowsPath('Data/Classical_Archive/beeth/beethoven_hammerklavier_3.mid'),\n",
       " WindowsPath('Data/Classical_Archive/beeth/beethoven_hammerklavier_4.mid'),\n",
       " WindowsPath('Data/Classical_Archive/beeth/beethoven_les_adieux_1.mid'),\n",
       " WindowsPath('Data/Classical_Archive/beeth/beethoven_les_adieux_2.mid'),\n",
       " WindowsPath('Data/Classical_Archive/beeth/beethoven_les_adieux_3.mid'),\n",
       " WindowsPath('Data/Classical_Archive/beeth/beethoven_opus10_1.mid'),\n",
       " WindowsPath('Data/Classical_Archive/beeth/beethoven_opus10_2.mid'),\n",
       " WindowsPath('Data/Classical_Archive/beeth/beethoven_opus10_3.mid'),\n",
       " WindowsPath('Data/Classical_Archive/beeth/beethoven_opus22_1.mid'),\n",
       " WindowsPath('Data/Classical_Archive/beeth/beethoven_opus22_2.mid'),\n",
       " WindowsPath('Data/Classical_Archive/beeth/beethoven_opus22_3.mid'),\n",
       " WindowsPath('Data/Classical_Archive/beeth/beethoven_opus22_4.mid'),\n",
       " WindowsPath('Data/Classical_Archive/beeth/beethoven_opus90_1.mid'),\n",
       " WindowsPath('Data/Classical_Archive/beeth/beethoven_opus90_2.mid'),\n",
       " WindowsPath('Data/Classical_Archive/beeth/elise.mid'),\n",
       " WindowsPath('Data/Classical_Archive/beeth/mond_1.mid'),\n",
       " WindowsPath('Data/Classical_Archive/beeth/mond_2.mid'),\n",
       " WindowsPath('Data/Classical_Archive/beeth/mond_3.mid'),\n",
       " WindowsPath('Data/Classical_Archive/beeth/pathetique_1.mid'),\n",
       " WindowsPath('Data/Classical_Archive/beeth/pathetique_2.mid'),\n",
       " WindowsPath('Data/Classical_Archive/beeth/pathetique_3.mid'),\n",
       " WindowsPath('Data/Classical_Archive/beeth/waldstein_1.mid'),\n",
       " WindowsPath('Data/Classical_Archive/beeth/waldstein_2.mid'),\n",
       " WindowsPath('Data/Classical_Archive/beeth/waldstein_3.mid'),\n",
       " WindowsPath('Data/Classical_Archive/borodin/bor_ps1.mid'),\n",
       " WindowsPath('Data/Classical_Archive/borodin/bor_ps2.mid'),\n",
       " WindowsPath('Data/Classical_Archive/borodin/bor_ps3.mid'),\n",
       " WindowsPath('Data/Classical_Archive/borodin/bor_ps4.mid'),\n",
       " WindowsPath('Data/Classical_Archive/borodin/bor_ps5.mid'),\n",
       " WindowsPath('Data/Classical_Archive/borodin/bor_ps6.mid'),\n",
       " WindowsPath('Data/Classical_Archive/borodin/bor_ps7.mid'),\n",
       " WindowsPath('Data/Classical_Archive/brahms/brahms_opus117_1.mid'),\n",
       " WindowsPath('Data/Classical_Archive/brahms/brahms_opus117_2.mid'),\n",
       " WindowsPath('Data/Classical_Archive/brahms/brahms_opus1_1.mid'),\n",
       " WindowsPath('Data/Classical_Archive/brahms/brahms_opus1_2.mid'),\n",
       " WindowsPath('Data/Classical_Archive/brahms/brahms_opus1_3.mid'),\n",
       " WindowsPath('Data/Classical_Archive/brahms/brahms_opus1_4.mid'),\n",
       " WindowsPath('Data/Classical_Archive/brahms/br_im2.mid'),\n",
       " WindowsPath('Data/Classical_Archive/brahms/br_im5.mid'),\n",
       " WindowsPath('Data/Classical_Archive/brahms/BR_IM6.MID'),\n",
       " WindowsPath('Data/Classical_Archive/brahms/br_rhap.mid'),\n",
       " WindowsPath('Data/Classical_Archive/burgm/burg_agitato.mid'),\n",
       " WindowsPath('Data/Classical_Archive/burgm/burg_erwachen.mid'),\n",
       " WindowsPath('Data/Classical_Archive/burgm/burg_geschwindigkeit.mid'),\n",
       " WindowsPath('Data/Classical_Archive/burgm/burg_gewitter.mid'),\n",
       " WindowsPath('Data/Classical_Archive/burgm/burg_perlen.mid'),\n",
       " WindowsPath('Data/Classical_Archive/burgm/burg_quelle.mid'),\n",
       " WindowsPath('Data/Classical_Archive/burgm/burg_spinnerlied.mid'),\n",
       " WindowsPath('Data/Classical_Archive/burgm/burg_sylphen.mid'),\n",
       " WindowsPath('Data/Classical_Archive/burgm/burg_trennung.mid'),\n",
       " WindowsPath('Data/Classical_Archive/chopin/chpn-p1.mid'),\n",
       " WindowsPath('Data/Classical_Archive/chopin/chpn-p10.mid'),\n",
       " WindowsPath('Data/Classical_Archive/chopin/chpn-p11.mid'),\n",
       " WindowsPath('Data/Classical_Archive/chopin/chpn-p12.mid'),\n",
       " WindowsPath('Data/Classical_Archive/chopin/chpn-p13.mid'),\n",
       " WindowsPath('Data/Classical_Archive/chopin/chpn-p14.mid'),\n",
       " WindowsPath('Data/Classical_Archive/chopin/chpn-p15.mid'),\n",
       " WindowsPath('Data/Classical_Archive/chopin/chpn-p16.mid'),\n",
       " WindowsPath('Data/Classical_Archive/chopin/chpn-p17.mid'),\n",
       " WindowsPath('Data/Classical_Archive/chopin/chpn-p18.mid'),\n",
       " WindowsPath('Data/Classical_Archive/chopin/chpn-p19.mid'),\n",
       " WindowsPath('Data/Classical_Archive/chopin/chpn-p2.mid'),\n",
       " WindowsPath('Data/Classical_Archive/chopin/chpn-p20.mid'),\n",
       " WindowsPath('Data/Classical_Archive/chopin/chpn-p21.mid'),\n",
       " WindowsPath('Data/Classical_Archive/chopin/chpn-p22.mid'),\n",
       " WindowsPath('Data/Classical_Archive/chopin/chpn-p23.mid'),\n",
       " WindowsPath('Data/Classical_Archive/chopin/chpn-p24.mid'),\n",
       " WindowsPath('Data/Classical_Archive/chopin/chpn-p3.mid'),\n",
       " WindowsPath('Data/Classical_Archive/chopin/chpn-p4.mid'),\n",
       " WindowsPath('Data/Classical_Archive/chopin/chpn-p5.mid'),\n",
       " WindowsPath('Data/Classical_Archive/chopin/chpn-p6.mid'),\n",
       " WindowsPath('Data/Classical_Archive/chopin/chpn-p7.mid'),\n",
       " WindowsPath('Data/Classical_Archive/chopin/chpn-p8.mid'),\n",
       " WindowsPath('Data/Classical_Archive/chopin/chpn-p9.mid'),\n",
       " WindowsPath('Data/Classical_Archive/chopin/chpn_op10_e01.mid'),\n",
       " WindowsPath('Data/Classical_Archive/chopin/chpn_op10_e05.mid'),\n",
       " WindowsPath('Data/Classical_Archive/chopin/chpn_op10_e12.mid'),\n",
       " WindowsPath('Data/Classical_Archive/chopin/chpn_op23.mid'),\n",
       " WindowsPath('Data/Classical_Archive/chopin/chpn_op25_e1.mid'),\n",
       " WindowsPath('Data/Classical_Archive/chopin/chpn_op25_e11.mid'),\n",
       " WindowsPath('Data/Classical_Archive/chopin/chpn_op25_e12.mid'),\n",
       " WindowsPath('Data/Classical_Archive/chopin/chpn_op25_e2.mid'),\n",
       " WindowsPath('Data/Classical_Archive/chopin/chpn_op25_e3.mid'),\n",
       " WindowsPath('Data/Classical_Archive/chopin/chpn_op25_e4.mid'),\n",
       " WindowsPath('Data/Classical_Archive/chopin/chpn_op27_1.mid'),\n",
       " WindowsPath('Data/Classical_Archive/chopin/chpn_op27_2.mid'),\n",
       " WindowsPath('Data/Classical_Archive/chopin/chpn_op33_2.mid'),\n",
       " WindowsPath('Data/Classical_Archive/chopin/chpn_op33_4.mid'),\n",
       " WindowsPath('Data/Classical_Archive/chopin/chpn_op35_1.mid'),\n",
       " WindowsPath('Data/Classical_Archive/chopin/chpn_op35_2.mid'),\n",
       " WindowsPath('Data/Classical_Archive/chopin/chpn_op35_3.mid'),\n",
       " WindowsPath('Data/Classical_Archive/chopin/chpn_op35_4.mid'),\n",
       " WindowsPath('Data/Classical_Archive/chopin/chpn_op53.mid'),\n",
       " WindowsPath('Data/Classical_Archive/chopin/chpn_op66.mid'),\n",
       " WindowsPath('Data/Classical_Archive/chopin/chpn_op7_1.mid'),\n",
       " WindowsPath('Data/Classical_Archive/chopin/chpn_op7_2.mid'),\n",
       " WindowsPath('Data/Classical_Archive/chopin/chp_op18.mid'),\n",
       " WindowsPath('Data/Classical_Archive/chopin/chp_op31.mid'),\n",
       " WindowsPath('Data/Classical_Archive/debussy/debussy_cc_1.mid'),\n",
       " WindowsPath('Data/Classical_Archive/debussy/debussy_cc_2.mid'),\n",
       " WindowsPath('Data/Classical_Archive/debussy/debussy_cc_3.mid'),\n",
       " WindowsPath('Data/Classical_Archive/debussy/debussy_cc_4.mid'),\n",
       " WindowsPath('Data/Classical_Archive/debussy/debussy_cc_6.mid'),\n",
       " WindowsPath('Data/Classical_Archive/debussy/DEB_CLAI.MID'),\n",
       " WindowsPath('Data/Classical_Archive/debussy/deb_menu.mid'),\n",
       " WindowsPath('Data/Classical_Archive/debussy/DEB_PASS.MID'),\n",
       " WindowsPath('Data/Classical_Archive/debussy/deb_prel.mid'),\n",
       " WindowsPath('Data/Classical_Archive/granados/gra_esp_2.mid'),\n",
       " WindowsPath('Data/Classical_Archive/granados/gra_esp_3.mid'),\n",
       " WindowsPath('Data/Classical_Archive/granados/gra_esp_4.mid'),\n",
       " WindowsPath('Data/Classical_Archive/grieg/grieg_album.mid'),\n",
       " WindowsPath('Data/Classical_Archive/grieg/grieg_berceuse.mid'),\n",
       " WindowsPath('Data/Classical_Archive/grieg/grieg_brooklet.mid'),\n",
       " WindowsPath('Data/Classical_Archive/grieg/grieg_butterfly.mid'),\n",
       " WindowsPath('Data/Classical_Archive/grieg/grieg_elfentanz.mid'),\n",
       " WindowsPath('Data/Classical_Archive/grieg/grieg_halling.mid'),\n",
       " WindowsPath('Data/Classical_Archive/grieg/grieg_kobold.mid'),\n",
       " WindowsPath('Data/Classical_Archive/grieg/grieg_march.mid'),\n",
       " WindowsPath('Data/Classical_Archive/grieg/grieg_once_upon_a_time.mid'),\n",
       " WindowsPath('Data/Classical_Archive/grieg/grieg_spring.mid'),\n",
       " WindowsPath('Data/Classical_Archive/grieg/grieg_voeglein.mid'),\n",
       " WindowsPath('Data/Classical_Archive/grieg/grieg_waechter.mid'),\n",
       " WindowsPath('Data/Classical_Archive/grieg/grieg_walzer.mid'),\n",
       " WindowsPath('Data/Classical_Archive/grieg/grieg_wanderer.mid'),\n",
       " WindowsPath('Data/Classical_Archive/grieg/grieg_wedding.mid'),\n",
       " WindowsPath('Data/Classical_Archive/grieg/grieg_zwerge.mid'),\n",
       " WindowsPath('Data/Classical_Archive/haydn/haydn_33_1.mid'),\n",
       " WindowsPath('Data/Classical_Archive/haydn/haydn_33_2.mid'),\n",
       " WindowsPath('Data/Classical_Archive/haydn/haydn_33_3.mid'),\n",
       " WindowsPath('Data/Classical_Archive/haydn/haydn_35_1.mid'),\n",
       " WindowsPath('Data/Classical_Archive/haydn/haydn_35_2.mid'),\n",
       " WindowsPath('Data/Classical_Archive/haydn/haydn_35_3.mid'),\n",
       " WindowsPath('Data/Classical_Archive/haydn/haydn_43_1.mid'),\n",
       " WindowsPath('Data/Classical_Archive/haydn/haydn_43_2.mid'),\n",
       " WindowsPath('Data/Classical_Archive/haydn/haydn_43_3.mid'),\n",
       " WindowsPath('Data/Classical_Archive/haydn/haydn_7_1.mid'),\n",
       " WindowsPath('Data/Classical_Archive/haydn/haydn_7_2.mid'),\n",
       " WindowsPath('Data/Classical_Archive/haydn/haydn_7_3.mid'),\n",
       " WindowsPath('Data/Classical_Archive/haydn/haydn_8_1.mid'),\n",
       " WindowsPath('Data/Classical_Archive/haydn/haydn_8_2.mid'),\n",
       " WindowsPath('Data/Classical_Archive/haydn/haydn_8_3.mid'),\n",
       " WindowsPath('Data/Classical_Archive/haydn/haydn_8_4.mid'),\n",
       " WindowsPath('Data/Classical_Archive/haydn/haydn_9_1.mid'),\n",
       " WindowsPath('Data/Classical_Archive/haydn/haydn_9_2.mid'),\n",
       " WindowsPath('Data/Classical_Archive/haydn/haydn_9_3.mid'),\n",
       " WindowsPath('Data/Classical_Archive/haydn/hay_40_1.mid'),\n",
       " WindowsPath('Data/Classical_Archive/haydn/hay_40_2.mid'),\n",
       " WindowsPath('Data/Classical_Archive/liszt/liz_donjuan.mid'),\n",
       " WindowsPath('Data/Classical_Archive/liszt/liz_et1.mid'),\n",
       " WindowsPath('Data/Classical_Archive/liszt/liz_et2.mid'),\n",
       " WindowsPath('Data/Classical_Archive/liszt/liz_et3.mid'),\n",
       " WindowsPath('Data/Classical_Archive/liszt/liz_et4.mid'),\n",
       " WindowsPath('Data/Classical_Archive/liszt/liz_et5.mid'),\n",
       " WindowsPath('Data/Classical_Archive/liszt/liz_et6.mid'),\n",
       " WindowsPath('Data/Classical_Archive/liszt/liz_et_trans4.mid'),\n",
       " WindowsPath('Data/Classical_Archive/liszt/liz_et_trans5.mid'),\n",
       " WindowsPath('Data/Classical_Archive/liszt/liz_et_trans8.mid'),\n",
       " WindowsPath('Data/Classical_Archive/liszt/liz_liebestraum.mid'),\n",
       " WindowsPath('Data/Classical_Archive/liszt/liz_rhap02.mid'),\n",
       " WindowsPath('Data/Classical_Archive/liszt/liz_rhap09.mid'),\n",
       " WindowsPath('Data/Classical_Archive/liszt/liz_rhap10.mid'),\n",
       " WindowsPath('Data/Classical_Archive/liszt/liz_rhap12.mid'),\n",
       " WindowsPath('Data/Classical_Archive/liszt/liz_rhap15.mid'),\n",
       " WindowsPath('Data/Classical_Archive/mendelssohn/mendel_op19_1.mid'),\n",
       " WindowsPath('Data/Classical_Archive/mendelssohn/mendel_op19_2.mid'),\n",
       " WindowsPath('Data/Classical_Archive/mendelssohn/mendel_op19_3.mid'),\n",
       " WindowsPath('Data/Classical_Archive/mendelssohn/mendel_op19_4.mid'),\n",
       " WindowsPath('Data/Classical_Archive/mendelssohn/mendel_op19_5.mid'),\n",
       " WindowsPath('Data/Classical_Archive/mendelssohn/mendel_op19_6.mid'),\n",
       " WindowsPath('Data/Classical_Archive/mendelssohn/mendel_op30_1.mid'),\n",
       " WindowsPath('Data/Classical_Archive/mendelssohn/mendel_op30_2.mid'),\n",
       " WindowsPath('Data/Classical_Archive/mendelssohn/mendel_op30_3.mid'),\n",
       " WindowsPath('Data/Classical_Archive/mendelssohn/mendel_op30_4.mid'),\n",
       " WindowsPath('Data/Classical_Archive/mendelssohn/mendel_op30_5.mid'),\n",
       " WindowsPath('Data/Classical_Archive/mendelssohn/mendel_op53_5.mid'),\n",
       " WindowsPath('Data/Classical_Archive/mendelssohn/mendel_op62_3.mid'),\n",
       " WindowsPath('Data/Classical_Archive/mendelssohn/mendel_op62_4.mid'),\n",
       " WindowsPath('Data/Classical_Archive/mendelssohn/mendel_op62_5.mid'),\n",
       " WindowsPath('Data/Classical_Archive/mozart/mz_311_1.mid'),\n",
       " WindowsPath('Data/Classical_Archive/mozart/mz_311_2.mid'),\n",
       " WindowsPath('Data/Classical_Archive/mozart/mz_311_3.mid'),\n",
       " WindowsPath('Data/Classical_Archive/mozart/mz_330_1.mid'),\n",
       " WindowsPath('Data/Classical_Archive/mozart/mz_330_2.mid'),\n",
       " WindowsPath('Data/Classical_Archive/mozart/mz_330_3.mid'),\n",
       " WindowsPath('Data/Classical_Archive/mozart/mz_331_1.mid'),\n",
       " WindowsPath('Data/Classical_Archive/mozart/mz_331_2.mid'),\n",
       " WindowsPath('Data/Classical_Archive/mozart/mz_331_3.mid'),\n",
       " WindowsPath('Data/Classical_Archive/mozart/mz_332_1.mid'),\n",
       " WindowsPath('Data/Classical_Archive/mozart/mz_332_2.mid'),\n",
       " WindowsPath('Data/Classical_Archive/mozart/mz_332_3.mid'),\n",
       " WindowsPath('Data/Classical_Archive/mozart/mz_333_1.mid'),\n",
       " WindowsPath('Data/Classical_Archive/mozart/mz_333_2.mid'),\n",
       " WindowsPath('Data/Classical_Archive/mozart/mz_333_3.mid'),\n",
       " WindowsPath('Data/Classical_Archive/mozart/mz_545_1.mid'),\n",
       " WindowsPath('Data/Classical_Archive/mozart/mz_545_2.mid'),\n",
       " WindowsPath('Data/Classical_Archive/mozart/mz_545_3.mid'),\n",
       " WindowsPath('Data/Classical_Archive/mozart/mz_570_1.mid'),\n",
       " WindowsPath('Data/Classical_Archive/mozart/mz_570_2.mid'),\n",
       " WindowsPath('Data/Classical_Archive/mozart/mz_570_3.mid'),\n",
       " WindowsPath('Data/Classical_Archive/muss/muss_1.mid'),\n",
       " WindowsPath('Data/Classical_Archive/muss/muss_2.mid'),\n",
       " WindowsPath('Data/Classical_Archive/muss/muss_3.mid'),\n",
       " WindowsPath('Data/Classical_Archive/muss/muss_4.mid'),\n",
       " WindowsPath('Data/Classical_Archive/muss/muss_5.mid'),\n",
       " WindowsPath('Data/Classical_Archive/muss/muss_6.mid'),\n",
       " WindowsPath('Data/Classical_Archive/muss/muss_7.mid'),\n",
       " WindowsPath('Data/Classical_Archive/muss/muss_8.mid'),\n",
       " WindowsPath('Data/Classical_Archive/schubert/schubert_D850_1.mid'),\n",
       " WindowsPath('Data/Classical_Archive/schubert/schubert_D850_2.mid'),\n",
       " WindowsPath('Data/Classical_Archive/schubert/schubert_D850_3.mid'),\n",
       " WindowsPath('Data/Classical_Archive/schubert/schubert_D850_4.mid'),\n",
       " WindowsPath('Data/Classical_Archive/schubert/schubert_D935_1.mid'),\n",
       " WindowsPath('Data/Classical_Archive/schubert/schubert_D935_2.mid'),\n",
       " WindowsPath('Data/Classical_Archive/schubert/schubert_D935_3.mid'),\n",
       " WindowsPath('Data/Classical_Archive/schubert/schubert_D935_4.mid'),\n",
       " WindowsPath('Data/Classical_Archive/schubert/schub_d760_1.mid'),\n",
       " WindowsPath('Data/Classical_Archive/schubert/schub_d760_2.mid'),\n",
       " WindowsPath('Data/Classical_Archive/schubert/schub_d760_3.mid'),\n",
       " WindowsPath('Data/Classical_Archive/schubert/schub_d760_4.mid'),\n",
       " WindowsPath('Data/Classical_Archive/schubert/schub_d960_1.mid'),\n",
       " WindowsPath('Data/Classical_Archive/schubert/schub_d960_2.mid'),\n",
       " WindowsPath('Data/Classical_Archive/schubert/schub_d960_3.mid'),\n",
       " WindowsPath('Data/Classical_Archive/schubert/schub_d960_4.mid'),\n",
       " WindowsPath('Data/Classical_Archive/schubert/schuim-1.mid'),\n",
       " WindowsPath('Data/Classical_Archive/schubert/schuim-2.mid'),\n",
       " WindowsPath('Data/Classical_Archive/schubert/schuim-3.mid'),\n",
       " WindowsPath('Data/Classical_Archive/schubert/schuim-4.mid'),\n",
       " WindowsPath('Data/Classical_Archive/schubert/schumm-1.mid'),\n",
       " WindowsPath('Data/Classical_Archive/schubert/schumm-2.mid'),\n",
       " WindowsPath('Data/Classical_Archive/schubert/schumm-3.mid'),\n",
       " WindowsPath('Data/Classical_Archive/schubert/schumm-4.mid'),\n",
       " WindowsPath('Data/Classical_Archive/schubert/schumm-5.mid'),\n",
       " WindowsPath('Data/Classical_Archive/schubert/schumm-6.mid'),\n",
       " WindowsPath('Data/Classical_Archive/schubert/schu_143_1.mid'),\n",
       " WindowsPath('Data/Classical_Archive/schubert/schu_143_2.mid'),\n",
       " WindowsPath('Data/Classical_Archive/schubert/schu_143_3.mid'),\n",
       " WindowsPath('Data/Classical_Archive/schumann/schum_abegg.mid'),\n",
       " WindowsPath('Data/Classical_Archive/schumann/scn15_1.mid'),\n",
       " WindowsPath('Data/Classical_Archive/schumann/scn15_10.mid'),\n",
       " WindowsPath('Data/Classical_Archive/schumann/scn15_11.mid'),\n",
       " WindowsPath('Data/Classical_Archive/schumann/scn15_12.mid'),\n",
       " WindowsPath('Data/Classical_Archive/schumann/scn15_13.mid'),\n",
       " WindowsPath('Data/Classical_Archive/schumann/scn15_2.mid'),\n",
       " WindowsPath('Data/Classical_Archive/schumann/scn15_3.mid'),\n",
       " WindowsPath('Data/Classical_Archive/schumann/scn15_4.mid'),\n",
       " WindowsPath('Data/Classical_Archive/schumann/scn15_5.mid'),\n",
       " WindowsPath('Data/Classical_Archive/schumann/scn15_6.mid'),\n",
       " WindowsPath('Data/Classical_Archive/schumann/scn15_7.mid'),\n",
       " WindowsPath('Data/Classical_Archive/schumann/scn15_8.mid'),\n",
       " WindowsPath('Data/Classical_Archive/schumann/scn15_9.mid'),\n",
       " WindowsPath('Data/Classical_Archive/schumann/scn16_1.mid'),\n",
       " WindowsPath('Data/Classical_Archive/schumann/scn16_2.mid'),\n",
       " WindowsPath('Data/Classical_Archive/schumann/scn16_3.mid'),\n",
       " WindowsPath('Data/Classical_Archive/schumann/scn16_4.mid'),\n",
       " WindowsPath('Data/Classical_Archive/schumann/scn16_5.mid'),\n",
       " WindowsPath('Data/Classical_Archive/schumann/scn16_6.mid'),\n",
       " WindowsPath('Data/Classical_Archive/schumann/scn16_7.mid'),\n",
       " WindowsPath('Data/Classical_Archive/schumann/scn16_8.mid'),\n",
       " WindowsPath('Data/Classical_Archive/schumann/scn68_10.mid'),\n",
       " WindowsPath('Data/Classical_Archive/schumann/scn68_12.mid'),\n",
       " WindowsPath('Data/Classical_Archive/tschai/ty_april.mid'),\n",
       " WindowsPath('Data/Classical_Archive/tschai/ty_august.mid'),\n",
       " WindowsPath('Data/Classical_Archive/tschai/ty_dezember.mid'),\n",
       " WindowsPath('Data/Classical_Archive/tschai/ty_februar.mid'),\n",
       " WindowsPath('Data/Classical_Archive/tschai/ty_januar.mid'),\n",
       " WindowsPath('Data/Classical_Archive/tschai/ty_juli.mid'),\n",
       " WindowsPath('Data/Classical_Archive/tschai/ty_juni.mid'),\n",
       " WindowsPath('Data/Classical_Archive/tschai/ty_maerz.mid'),\n",
       " WindowsPath('Data/Classical_Archive/tschai/ty_mai.mid'),\n",
       " WindowsPath('Data/Classical_Archive/tschai/ty_november.mid'),\n",
       " WindowsPath('Data/Classical_Archive/tschai/ty_oktober.mid'),\n",
       " WindowsPath('Data/Classical_Archive/tschai/ty_september.mid')]"
      ]
     },
     "execution_count": 8,
     "metadata": {},
     "output_type": "execute_result"
    }
   ],
   "source": [
    "songs = []\n",
    "folder = Path('Data\\\\Classical_Archive')\n",
    "\n",
    "for file in folder.rglob('*.mid'):\n",
    "  songs.append(file)\n",
    "\n",
    "# Display the list of songs\n",
    "songs"
   ]
  },
  {
   "cell_type": "code",
   "execution_count": 9,
   "id": "0e179790-4963-474c-bb52-038653c5ba67",
   "metadata": {},
   "outputs": [],
   "source": [
    "# Create empty list to store all the notes and chords\n",
    "notes = []"
   ]
  },
  {
   "cell_type": "code",
   "execution_count": 10,
   "id": "019ccd55-e6e8-4474-ad95-00fd1157e454",
   "metadata": {},
   "outputs": [
    {
     "name": "stdout",
     "output_type": "stream",
     "text": [
      "1: Data\\Classical_Archive\\albeniz\\alb_esp1.mid\n",
      "2: Data\\Classical_Archive\\albeniz\\alb_esp2.mid\n",
      "3: Data\\Classical_Archive\\albeniz\\alb_esp3.mid\n",
      "4: Data\\Classical_Archive\\albeniz\\alb_esp4.mid\n",
      "5: Data\\Classical_Archive\\albeniz\\alb_esp5.mid\n",
      "6: Data\\Classical_Archive\\albeniz\\alb_esp6.mid\n",
      "7: Data\\Classical_Archive\\albeniz\\alb_se1.mid\n",
      "8: Data\\Classical_Archive\\albeniz\\alb_se2.mid\n",
      "9: Data\\Classical_Archive\\albeniz\\alb_se3.mid\n",
      "10: Data\\Classical_Archive\\albeniz\\alb_se4.mid\n",
      "11: Data\\Classical_Archive\\albeniz\\alb_se5.mid\n",
      "12: Data\\Classical_Archive\\albeniz\\alb_se6.mid\n",
      "13: Data\\Classical_Archive\\albeniz\\alb_se7.mid\n",
      "14: Data\\Classical_Archive\\albeniz\\alb_se8.mid\n",
      "15: Data\\Classical_Archive\\bach\\bach_846.mid\n",
      "16: Data\\Classical_Archive\\bach\\bach_847.mid\n",
      "17: Data\\Classical_Archive\\bach\\bach_850.mid\n",
      "18: Data\\Classical_Archive\\balakir\\islamei.mid\n"
     ]
    },
    {
     "name": "stderr",
     "output_type": "stream",
     "text": [
      "C:\\Users\\nikhi\\anaconda3\\envs\\tf\\lib\\site-packages\\music21\\midi\\translate.py:863: TranslateWarning: Unable to determine instrument from <music21.midi.MidiEvent SEQUENCE_TRACK_NAME, track=4, channel=None, data=b'Copyright \\xa9 2000 by Bernd Kr\\xfcger'>; getting generic Instrument\n",
      "  warnings.warn(\n"
     ]
    },
    {
     "name": "stdout",
     "output_type": "stream",
     "text": [
      "19: Data\\Classical_Archive\\beeth\\appass_1.mid\n"
     ]
    },
    {
     "name": "stderr",
     "output_type": "stream",
     "text": [
      "C:\\Users\\nikhi\\anaconda3\\envs\\tf\\lib\\site-packages\\music21\\midi\\translate.py:863: TranslateWarning: Unable to determine instrument from <music21.midi.MidiEvent SEQUENCE_TRACK_NAME, track=5, channel=None, data=b'Copyright \\xa9 2001 by Bernd Kr\\xfcger'>; getting generic Instrument\n",
      "  warnings.warn(\n"
     ]
    },
    {
     "name": "stdout",
     "output_type": "stream",
     "text": [
      "20: Data\\Classical_Archive\\beeth\\appass_2.mid\n",
      "21: Data\\Classical_Archive\\beeth\\appass_3.mid\n",
      "22: Data\\Classical_Archive\\beeth\\beethoven_hammerklavier_1.mid\n"
     ]
    },
    {
     "name": "stderr",
     "output_type": "stream",
     "text": [
      "C:\\Users\\nikhi\\anaconda3\\envs\\tf\\lib\\site-packages\\music21\\midi\\translate.py:863: TranslateWarning: Unable to determine instrument from <music21.midi.MidiEvent SEQUENCE_TRACK_NAME, track=5, channel=None, data=b'Copyright \\xa9 2008 by Bernd Krueger'>; getting generic Instrument\n",
      "  warnings.warn(\n"
     ]
    },
    {
     "name": "stdout",
     "output_type": "stream",
     "text": [
      "23: Data\\Classical_Archive\\beeth\\beethoven_hammerklavier_2.mid\n",
      "24: Data\\Classical_Archive\\beeth\\beethoven_hammerklavier_3.mid\n",
      "25: Data\\Classical_Archive\\beeth\\beethoven_hammerklavier_4.mid\n",
      "26: Data\\Classical_Archive\\beeth\\beethoven_les_adieux_1.mid\n",
      "27: Data\\Classical_Archive\\beeth\\beethoven_les_adieux_2.mid\n",
      "28: Data\\Classical_Archive\\beeth\\beethoven_les_adieux_3.mid\n",
      "29: Data\\Classical_Archive\\beeth\\beethoven_opus10_1.mid\n",
      "30: Data\\Classical_Archive\\beeth\\beethoven_opus10_2.mid\n",
      "31: Data\\Classical_Archive\\beeth\\beethoven_opus10_3.mid\n",
      "32: Data\\Classical_Archive\\beeth\\beethoven_opus22_1.mid\n"
     ]
    },
    {
     "name": "stderr",
     "output_type": "stream",
     "text": [
      "C:\\Users\\nikhi\\anaconda3\\envs\\tf\\lib\\site-packages\\music21\\midi\\translate.py:863: TranslateWarning: Unable to determine instrument from <music21.midi.MidiEvent SEQUENCE_TRACK_NAME, track=5, channel=None, data=b'Copyright \\xa9 2009 by Bernd Krueger'>; getting generic Instrument\n",
      "  warnings.warn(\n"
     ]
    },
    {
     "name": "stdout",
     "output_type": "stream",
     "text": [
      "33: Data\\Classical_Archive\\beeth\\beethoven_opus22_2.mid\n",
      "34: Data\\Classical_Archive\\beeth\\beethoven_opus22_3.mid\n",
      "35: Data\\Classical_Archive\\beeth\\beethoven_opus22_4.mid\n",
      "36: Data\\Classical_Archive\\beeth\\beethoven_opus90_1.mid\n"
     ]
    },
    {
     "name": "stderr",
     "output_type": "stream",
     "text": [
      "C:\\Users\\nikhi\\anaconda3\\envs\\tf\\lib\\site-packages\\music21\\midi\\translate.py:863: TranslateWarning: Unable to determine instrument from <music21.midi.MidiEvent SEQUENCE_TRACK_NAME, track=5, channel=None, data=b'Copyright \\xa9 2010 by Bernd Krueger'>; getting generic Instrument\n",
      "  warnings.warn(\n"
     ]
    },
    {
     "name": "stdout",
     "output_type": "stream",
     "text": [
      "37: Data\\Classical_Archive\\beeth\\beethoven_opus90_2.mid\n",
      "38: Data\\Classical_Archive\\beeth\\elise.mid\n"
     ]
    },
    {
     "name": "stderr",
     "output_type": "stream",
     "text": [
      "C:\\Users\\nikhi\\anaconda3\\envs\\tf\\lib\\site-packages\\music21\\midi\\translate.py:863: TranslateWarning: Unable to determine instrument from <music21.midi.MidiEvent SEQUENCE_TRACK_NAME, track=0, channel=None, data=b'F\\xfcr Elise'>; getting generic Instrument\n",
      "  warnings.warn(\n",
      "C:\\Users\\nikhi\\anaconda3\\envs\\tf\\lib\\site-packages\\music21\\midi\\translate.py:863: TranslateWarning: Unable to determine instrument from <music21.midi.MidiEvent SEQUENCE_TRACK_NAME, track=3, channel=None, data=b'Beethoven F\\xfcr Elise'>; getting generic Instrument\n",
      "  warnings.warn(\n",
      "C:\\Users\\nikhi\\anaconda3\\envs\\tf\\lib\\site-packages\\music21\\midi\\translate.py:863: TranslateWarning: Unable to determine instrument from <music21.midi.MidiEvent SEQUENCE_TRACK_NAME, track=4, channel=None, data=b'Copyright \\xa9 2004 by Bernd Kr\\xfcger'>; getting generic Instrument\n",
      "  warnings.warn(\n"
     ]
    },
    {
     "name": "stdout",
     "output_type": "stream",
     "text": [
      "39: Data\\Classical_Archive\\beeth\\mond_1.mid\n"
     ]
    },
    {
     "name": "stderr",
     "output_type": "stream",
     "text": [
      "C:\\Users\\nikhi\\anaconda3\\envs\\tf\\lib\\site-packages\\music21\\midi\\translate.py:863: TranslateWarning: Unable to determine instrument from <music21.midi.MidiEvent SEQUENCE_TRACK_NAME, track=0, channel=None, data=b'Mondscheinsonate; der Gr\\xe4fin Giulietta Guiccardi gewidmet'>; getting generic Instrument\n",
      "  warnings.warn(\n",
      "C:\\Users\\nikhi\\anaconda3\\envs\\tf\\lib\\site-packages\\music21\\midi\\translate.py:863: TranslateWarning: Unable to determine instrument from <music21.midi.MidiEvent SEQUENCE_TRACK_NAME, track=6, channel=None, data=b'Copyright \\xa9 1998 by Bernd Krueger'>; getting generic Instrument\n",
      "  warnings.warn(\n"
     ]
    },
    {
     "name": "stdout",
     "output_type": "stream",
     "text": [
      "40: Data\\Classical_Archive\\beeth\\mond_2.mid\n"
     ]
    },
    {
     "name": "stderr",
     "output_type": "stream",
     "text": [
      "C:\\Users\\nikhi\\anaconda3\\envs\\tf\\lib\\site-packages\\music21\\midi\\translate.py:863: TranslateWarning: Unable to determine instrument from <music21.midi.MidiEvent SEQUENCE_TRACK_NAME, track=4, channel=None, data=b'Copyright \\xa9 1998 by Bernd Krueger'>; getting generic Instrument\n",
      "  warnings.warn(\n"
     ]
    },
    {
     "name": "stdout",
     "output_type": "stream",
     "text": [
      "41: Data\\Classical_Archive\\beeth\\mond_3.mid\n"
     ]
    },
    {
     "name": "stderr",
     "output_type": "stream",
     "text": [
      "C:\\Users\\nikhi\\anaconda3\\envs\\tf\\lib\\site-packages\\music21\\midi\\translate.py:863: TranslateWarning: Unable to determine instrument from <music21.midi.MidiEvent SEQUENCE_TRACK_NAME, track=5, channel=None, data=b'Copyright \\xa9 1998 by Bernd Krueger'>; getting generic Instrument\n",
      "  warnings.warn(\n"
     ]
    },
    {
     "name": "stdout",
     "output_type": "stream",
     "text": [
      "42: Data\\Classical_Archive\\beeth\\pathetique_1.mid\n"
     ]
    },
    {
     "name": "stderr",
     "output_type": "stream",
     "text": [
      "C:\\Users\\nikhi\\anaconda3\\envs\\tf\\lib\\site-packages\\music21\\midi\\translate.py:863: TranslateWarning: Unable to determine instrument from <music21.midi.MidiEvent SEQUENCE_TRACK_NAME, track=4, channel=None, data=b'Beethoven Sonata No. 8 C minor, Grand Sonate path\\xe9tique 1. Movement'>; getting generic Instrument\n",
      "  warnings.warn(\n",
      "C:\\Users\\nikhi\\anaconda3\\envs\\tf\\lib\\site-packages\\music21\\midi\\translate.py:863: TranslateWarning: Unable to determine instrument from <music21.midi.MidiEvent SEQUENCE_TRACK_NAME, track=5, channel=None, data=b'Copyright \\xa9 2003 by Bernd Krueger'>; getting generic Instrument\n",
      "  warnings.warn(\n"
     ]
    },
    {
     "name": "stdout",
     "output_type": "stream",
     "text": [
      "43: Data\\Classical_Archive\\beeth\\pathetique_2.mid\n"
     ]
    },
    {
     "name": "stderr",
     "output_type": "stream",
     "text": [
      "C:\\Users\\nikhi\\anaconda3\\envs\\tf\\lib\\site-packages\\music21\\midi\\translate.py:863: TranslateWarning: Unable to determine instrument from <music21.midi.MidiEvent SEQUENCE_TRACK_NAME, track=6, channel=None, data=b'Beethoven Sonata No. 8 C minor, Grand Sonate path\\xe9tique 2. Movement'>; getting generic Instrument\n",
      "  warnings.warn(\n",
      "C:\\Users\\nikhi\\anaconda3\\envs\\tf\\lib\\site-packages\\music21\\midi\\translate.py:863: TranslateWarning: Unable to determine instrument from <music21.midi.MidiEvent SEQUENCE_TRACK_NAME, track=7, channel=None, data=b'Copyright \\xa9 2003 by Bernd Krueger'>; getting generic Instrument\n",
      "  warnings.warn(\n"
     ]
    },
    {
     "name": "stdout",
     "output_type": "stream",
     "text": [
      "44: Data\\Classical_Archive\\beeth\\pathetique_3.mid\n"
     ]
    },
    {
     "name": "stderr",
     "output_type": "stream",
     "text": [
      "C:\\Users\\nikhi\\anaconda3\\envs\\tf\\lib\\site-packages\\music21\\midi\\translate.py:863: TranslateWarning: Unable to determine instrument from <music21.midi.MidiEvent SEQUENCE_TRACK_NAME, track=4, channel=None, data=b'Beethoven Sonata No. 8 C minor, Grand Sonate path\\xe9tique 3. Movement'>; getting generic Instrument\n",
      "  warnings.warn(\n"
     ]
    },
    {
     "name": "stdout",
     "output_type": "stream",
     "text": [
      "45: Data\\Classical_Archive\\beeth\\waldstein_1.mid\n",
      "46: Data\\Classical_Archive\\beeth\\waldstein_2.mid\n",
      "47: Data\\Classical_Archive\\beeth\\waldstein_3.mid\n"
     ]
    },
    {
     "name": "stderr",
     "output_type": "stream",
     "text": [
      "C:\\Users\\nikhi\\anaconda3\\envs\\tf\\lib\\site-packages\\music21\\midi\\translate.py:863: TranslateWarning: Unable to determine instrument from <music21.midi.MidiEvent SEQUENCE_TRACK_NAME, track=6, channel=None, data=b'Copyright \\xa9 2003 by Bernd Krueger'>; getting generic Instrument\n",
      "  warnings.warn(\n"
     ]
    },
    {
     "name": "stdout",
     "output_type": "stream",
     "text": [
      "48: Data\\Classical_Archive\\borodin\\bor_ps1.mid\n",
      "49: Data\\Classical_Archive\\borodin\\bor_ps2.mid\n",
      "50: Data\\Classical_Archive\\borodin\\bor_ps3.mid\n",
      "51: Data\\Classical_Archive\\borodin\\bor_ps4.mid\n",
      "52: Data\\Classical_Archive\\borodin\\bor_ps5.mid\n",
      "53: Data\\Classical_Archive\\borodin\\bor_ps6.mid\n",
      "54: Data\\Classical_Archive\\borodin\\bor_ps7.mid\n",
      "55: Data\\Classical_Archive\\brahms\\brahms_opus117_1.mid\n",
      "56: Data\\Classical_Archive\\brahms\\brahms_opus117_2.mid\n",
      "57: Data\\Classical_Archive\\brahms\\brahms_opus1_1.mid\n",
      "58: Data\\Classical_Archive\\brahms\\brahms_opus1_2.mid\n",
      "59: Data\\Classical_Archive\\brahms\\brahms_opus1_3.mid\n",
      "FAILED: 59: Data\\Classical_Archive\\brahms\\brahms_opus1_3.mid\n",
      "60: Data\\Classical_Archive\\brahms\\brahms_opus1_4.mid\n",
      "61: Data\\Classical_Archive\\brahms\\br_im2.mid\n"
     ]
    },
    {
     "name": "stderr",
     "output_type": "stream",
     "text": [
      "C:\\Users\\nikhi\\anaconda3\\envs\\tf\\lib\\site-packages\\music21\\midi\\translate.py:863: TranslateWarning: Unable to determine instrument from <music21.midi.MidiEvent SEQUENCE_TRACK_NAME, track=4, channel=None, data=b'Copyright \\xa9 1997 by Bernd Kr\\xfcger'>; getting generic Instrument\n",
      "  warnings.warn(\n"
     ]
    },
    {
     "name": "stdout",
     "output_type": "stream",
     "text": [
      "62: Data\\Classical_Archive\\brahms\\br_im5.mid\n"
     ]
    },
    {
     "name": "stderr",
     "output_type": "stream",
     "text": [
      "C:\\Users\\nikhi\\anaconda3\\envs\\tf\\lib\\site-packages\\music21\\midi\\translate.py:863: TranslateWarning: Unable to determine instrument from <music21.midi.MidiEvent SEQUENCE_TRACK_NAME, track=5, channel=None, data=b'Copyright \\xa9 2005 by Bernd Kr\\xfcger'>; getting generic Instrument\n",
      "  warnings.warn(\n"
     ]
    },
    {
     "name": "stdout",
     "output_type": "stream",
     "text": [
      "63: Data\\Classical_Archive\\brahms\\BR_IM6.MID\n"
     ]
    },
    {
     "name": "stderr",
     "output_type": "stream",
     "text": [
      "C:\\Users\\nikhi\\anaconda3\\envs\\tf\\lib\\site-packages\\music21\\midi\\translate.py:863: TranslateWarning: Unable to determine instrument from <music21.midi.MidiEvent SEQUENCE_TRACK_NAME, track=4, channel=None, data=b'Copyright \\xa9 1999 by Bernd Kr\\xfcger'>; getting generic Instrument\n",
      "  warnings.warn(\n"
     ]
    },
    {
     "name": "stdout",
     "output_type": "stream",
     "text": [
      "64: Data\\Classical_Archive\\brahms\\br_rhap.mid\n"
     ]
    },
    {
     "name": "stderr",
     "output_type": "stream",
     "text": [
      "C:\\Users\\nikhi\\anaconda3\\envs\\tf\\lib\\site-packages\\music21\\midi\\translate.py:863: TranslateWarning: Unable to determine instrument from <music21.midi.MidiEvent SEQUENCE_TRACK_NAME, track=4, channel=None, data=b'Produced 1997 by Bernd Kr\\xfcger.'>; getting generic Instrument\n",
      "  warnings.warn(\n"
     ]
    },
    {
     "name": "stdout",
     "output_type": "stream",
     "text": [
      "65: Data\\Classical_Archive\\burgm\\burg_agitato.mid\n"
     ]
    },
    {
     "name": "stderr",
     "output_type": "stream",
     "text": [
      "C:\\Users\\nikhi\\anaconda3\\envs\\tf\\lib\\site-packages\\music21\\midi\\translate.py:863: TranslateWarning: Unable to determine instrument from <music21.midi.MidiEvent SEQUENCE_TRACK_NAME, track=4, channel=None, data=b'Copyright \\xa9 2012 by Bernd Kr\\xfcger'>; getting generic Instrument\n",
      "  warnings.warn(\n"
     ]
    },
    {
     "name": "stdout",
     "output_type": "stream",
     "text": [
      "66: Data\\Classical_Archive\\burgm\\burg_erwachen.mid\n"
     ]
    },
    {
     "name": "stderr",
     "output_type": "stream",
     "text": [
      "C:\\Users\\nikhi\\anaconda3\\envs\\tf\\lib\\site-packages\\music21\\midi\\translate.py:863: TranslateWarning: Unable to determine instrument from <music21.midi.MidiEvent SEQUENCE_TRACK_NAME, track=5, channel=None, data=b'Copyright \\xa9 2004 by Bernd Kr\\xfcger'>; getting generic Instrument\n",
      "  warnings.warn(\n"
     ]
    },
    {
     "name": "stdout",
     "output_type": "stream",
     "text": [
      "67: Data\\Classical_Archive\\burgm\\burg_geschwindigkeit.mid\n"
     ]
    },
    {
     "name": "stderr",
     "output_type": "stream",
     "text": [
      "C:\\Users\\nikhi\\anaconda3\\envs\\tf\\lib\\site-packages\\music21\\midi\\translate.py:863: TranslateWarning: Unable to determine instrument from <music21.midi.MidiEvent SEQUENCE_TRACK_NAME, track=5, channel=None, data=b'Copyright \\xa9 2012 by Bernd Kr\\xfcger'>; getting generic Instrument\n",
      "  warnings.warn(\n"
     ]
    },
    {
     "name": "stdout",
     "output_type": "stream",
     "text": [
      "68: Data\\Classical_Archive\\burgm\\burg_gewitter.mid\n",
      "69: Data\\Classical_Archive\\burgm\\burg_perlen.mid\n",
      "70: Data\\Classical_Archive\\burgm\\burg_quelle.mid\n",
      "71: Data\\Classical_Archive\\burgm\\burg_spinnerlied.mid\n",
      "72: Data\\Classical_Archive\\burgm\\burg_sylphen.mid\n",
      "73: Data\\Classical_Archive\\burgm\\burg_trennung.mid\n",
      "74: Data\\Classical_Archive\\chopin\\chpn-p1.mid\n"
     ]
    },
    {
     "name": "stderr",
     "output_type": "stream",
     "text": [
      "C:\\Users\\nikhi\\anaconda3\\envs\\tf\\lib\\site-packages\\music21\\midi\\translate.py:863: TranslateWarning: Unable to determine instrument from <music21.midi.MidiEvent SEQUENCE_TRACK_NAME, track=4, channel=None, data=b'Copyright \\xa9 2002 by Bernd Krueger'>; getting generic Instrument\n",
      "  warnings.warn(\n"
     ]
    },
    {
     "name": "stdout",
     "output_type": "stream",
     "text": [
      "75: Data\\Classical_Archive\\chopin\\chpn-p10.mid\n"
     ]
    },
    {
     "name": "stderr",
     "output_type": "stream",
     "text": [
      "C:\\Users\\nikhi\\anaconda3\\envs\\tf\\lib\\site-packages\\music21\\midi\\translate.py:863: TranslateWarning: Unable to determine instrument from <music21.midi.MidiEvent SEQUENCE_TRACK_NAME, track=4, channel=None, data=b'Copyright \\xa9 1997 by Bernd Krueger'>; getting generic Instrument\n",
      "  warnings.warn(\n"
     ]
    },
    {
     "name": "stdout",
     "output_type": "stream",
     "text": [
      "76: Data\\Classical_Archive\\chopin\\chpn-p11.mid\n",
      "77: Data\\Classical_Archive\\chopin\\chpn-p12.mid\n",
      "78: Data\\Classical_Archive\\chopin\\chpn-p13.mid\n",
      "79: Data\\Classical_Archive\\chopin\\chpn-p14.mid\n",
      "80: Data\\Classical_Archive\\chopin\\chpn-p15.mid\n",
      "81: Data\\Classical_Archive\\chopin\\chpn-p16.mid\n",
      "82: Data\\Classical_Archive\\chopin\\chpn-p17.mid\n",
      "83: Data\\Classical_Archive\\chopin\\chpn-p18.mid\n",
      "84: Data\\Classical_Archive\\chopin\\chpn-p19.mid\n",
      "85: Data\\Classical_Archive\\chopin\\chpn-p2.mid\n",
      "86: Data\\Classical_Archive\\chopin\\chpn-p20.mid\n",
      "87: Data\\Classical_Archive\\chopin\\chpn-p21.mid\n",
      "88: Data\\Classical_Archive\\chopin\\chpn-p22.mid\n",
      "89: Data\\Classical_Archive\\chopin\\chpn-p23.mid\n",
      "90: Data\\Classical_Archive\\chopin\\chpn-p24.mid\n",
      "91: Data\\Classical_Archive\\chopin\\chpn-p3.mid\n",
      "92: Data\\Classical_Archive\\chopin\\chpn-p4.mid\n",
      "93: Data\\Classical_Archive\\chopin\\chpn-p5.mid\n",
      "94: Data\\Classical_Archive\\chopin\\chpn-p6.mid\n",
      "95: Data\\Classical_Archive\\chopin\\chpn-p7.mid\n",
      "96: Data\\Classical_Archive\\chopin\\chpn-p8.mid\n"
     ]
    },
    {
     "name": "stderr",
     "output_type": "stream",
     "text": [
      "C:\\Users\\nikhi\\anaconda3\\envs\\tf\\lib\\site-packages\\music21\\midi\\translate.py:863: TranslateWarning: Unable to determine instrument from <music21.midi.MidiEvent SEQUENCE_TRACK_NAME, track=5, channel=None, data=b'Copyright \\xa9 1997 by Bernd Krueger'>; getting generic Instrument\n",
      "  warnings.warn(\n"
     ]
    },
    {
     "name": "stdout",
     "output_type": "stream",
     "text": [
      "97: Data\\Classical_Archive\\chopin\\chpn-p9.mid\n",
      "98: Data\\Classical_Archive\\chopin\\chpn_op10_e01.mid\n"
     ]
    },
    {
     "name": "stderr",
     "output_type": "stream",
     "text": [
      "C:\\Users\\nikhi\\anaconda3\\envs\\tf\\lib\\site-packages\\music21\\midi\\translate.py:863: TranslateWarning: Unable to determine instrument from <music21.midi.MidiEvent SEQUENCE_TRACK_NAME, track=0, channel=None, data=b'Et\\xfcde Opus 10 No. 5'>; getting generic Instrument\n",
      "  warnings.warn(\n"
     ]
    },
    {
     "name": "stdout",
     "output_type": "stream",
     "text": [
      "99: Data\\Classical_Archive\\chopin\\chpn_op10_e05.mid\n"
     ]
    },
    {
     "name": "stderr",
     "output_type": "stream",
     "text": [
      "C:\\Users\\nikhi\\anaconda3\\envs\\tf\\lib\\site-packages\\music21\\midi\\translate.py:863: TranslateWarning: Unable to determine instrument from <music21.midi.MidiEvent SEQUENCE_TRACK_NAME, track=0, channel=None, data=b'Schwarze-Tasten-Et\\xfcde'>; getting generic Instrument\n",
      "  warnings.warn(\n"
     ]
    },
    {
     "name": "stdout",
     "output_type": "stream",
     "text": [
      "100: Data\\Classical_Archive\\chopin\\chpn_op10_e12.mid\n"
     ]
    },
    {
     "name": "stderr",
     "output_type": "stream",
     "text": [
      "C:\\Users\\nikhi\\anaconda3\\envs\\tf\\lib\\site-packages\\music21\\midi\\translate.py:863: TranslateWarning: Unable to determine instrument from <music21.midi.MidiEvent SEQUENCE_TRACK_NAME, track=0, channel=None, data=b'Et\\xfcde Nr. 12'>; getting generic Instrument\n",
      "  warnings.warn(\n"
     ]
    },
    {
     "name": "stdout",
     "output_type": "stream",
     "text": [
      "101: Data\\Classical_Archive\\chopin\\chpn_op23.mid\n"
     ]
    },
    {
     "name": "stderr",
     "output_type": "stream",
     "text": [
      "C:\\Users\\nikhi\\anaconda3\\envs\\tf\\lib\\site-packages\\music21\\midi\\translate.py:863: TranslateWarning: Unable to determine instrument from <music21.midi.MidiEvent SEQUENCE_TRACK_NAME, track=4, channel=None, data=b'Copyright \\xa9 2003 by Bernd Krueger'>; getting generic Instrument\n",
      "  warnings.warn(\n"
     ]
    },
    {
     "name": "stdout",
     "output_type": "stream",
     "text": [
      "102: Data\\Classical_Archive\\chopin\\chpn_op25_e1.mid\n"
     ]
    },
    {
     "name": "stderr",
     "output_type": "stream",
     "text": [
      "C:\\Users\\nikhi\\anaconda3\\envs\\tf\\lib\\site-packages\\music21\\midi\\translate.py:863: TranslateWarning: Unable to determine instrument from <music21.midi.MidiEvent SEQUENCE_TRACK_NAME, track=5, channel=None, data=b'Copyright \\xa9 2002 by Bernd Krueger'>; getting generic Instrument\n",
      "  warnings.warn(\n"
     ]
    },
    {
     "name": "stdout",
     "output_type": "stream",
     "text": [
      "103: Data\\Classical_Archive\\chopin\\chpn_op25_e11.mid\n"
     ]
    },
    {
     "name": "stderr",
     "output_type": "stream",
     "text": [
      "C:\\Users\\nikhi\\anaconda3\\envs\\tf\\lib\\site-packages\\music21\\midi\\translate.py:863: TranslateWarning: Unable to determine instrument from <music21.midi.MidiEvent SEQUENCE_TRACK_NAME, track=0, channel=None, data=b'Et\\xfcde Opus 25, No. 11'>; getting generic Instrument\n",
      "  warnings.warn(\n",
      "C:\\Users\\nikhi\\anaconda3\\envs\\tf\\lib\\site-packages\\music21\\midi\\translate.py:863: TranslateWarning: Unable to determine instrument from <music21.midi.MidiEvent SEQUENCE_TRACK_NAME, track=0, channel=None, data=b'Sturmet\\xfcde'>; getting generic Instrument\n",
      "  warnings.warn(\n"
     ]
    },
    {
     "name": "stdout",
     "output_type": "stream",
     "text": [
      "104: Data\\Classical_Archive\\chopin\\chpn_op25_e12.mid\n",
      "105: Data\\Classical_Archive\\chopin\\chpn_op25_e2.mid\n",
      "106: Data\\Classical_Archive\\chopin\\chpn_op25_e3.mid\n",
      "107: Data\\Classical_Archive\\chopin\\chpn_op25_e4.mid\n",
      "108: Data\\Classical_Archive\\chopin\\chpn_op27_1.mid\n",
      "109: Data\\Classical_Archive\\chopin\\chpn_op27_2.mid\n",
      "110: Data\\Classical_Archive\\chopin\\chpn_op33_2.mid\n",
      "FAILED: 110: Data\\Classical_Archive\\chopin\\chpn_op33_2.mid\n",
      "111: Data\\Classical_Archive\\chopin\\chpn_op33_4.mid\n",
      "112: Data\\Classical_Archive\\chopin\\chpn_op35_1.mid\n"
     ]
    },
    {
     "name": "stderr",
     "output_type": "stream",
     "text": [
      "C:\\Users\\nikhi\\anaconda3\\envs\\tf\\lib\\site-packages\\music21\\midi\\translate.py:863: TranslateWarning: Unable to determine instrument from <music21.midi.MidiEvent SEQUENCE_TRACK_NAME, track=5, channel=None, data=b'Copyright \\xa9 2002 by Bernd Kr\\xfcger'>; getting generic Instrument\n",
      "  warnings.warn(\n"
     ]
    },
    {
     "name": "stdout",
     "output_type": "stream",
     "text": [
      "113: Data\\Classical_Archive\\chopin\\chpn_op35_2.mid\n",
      "FAILED: 113: Data\\Classical_Archive\\chopin\\chpn_op35_2.mid\n",
      "114: Data\\Classical_Archive\\chopin\\chpn_op35_3.mid\n"
     ]
    },
    {
     "name": "stderr",
     "output_type": "stream",
     "text": [
      "C:\\Users\\nikhi\\anaconda3\\envs\\tf\\lib\\site-packages\\music21\\midi\\translate.py:863: TranslateWarning: Unable to determine instrument from <music21.midi.MidiEvent SEQUENCE_TRACK_NAME, track=4, channel=None, data=b'Copyright \\xa9 2002 by Bernd Kr\\xfcger'>; getting generic Instrument\n",
      "  warnings.warn(\n"
     ]
    },
    {
     "name": "stdout",
     "output_type": "stream",
     "text": [
      "115: Data\\Classical_Archive\\chopin\\chpn_op35_4.mid\n",
      "116: Data\\Classical_Archive\\chopin\\chpn_op53.mid\n",
      "117: Data\\Classical_Archive\\chopin\\chpn_op66.mid\n",
      "118: Data\\Classical_Archive\\chopin\\chpn_op7_1.mid\n",
      "119: Data\\Classical_Archive\\chopin\\chpn_op7_2.mid\n",
      "120: Data\\Classical_Archive\\chopin\\chp_op18.mid\n",
      "121: Data\\Classical_Archive\\chopin\\chp_op31.mid\n",
      "122: Data\\Classical_Archive\\debussy\\debussy_cc_1.mid\n",
      "123: Data\\Classical_Archive\\debussy\\debussy_cc_2.mid\n",
      "124: Data\\Classical_Archive\\debussy\\debussy_cc_3.mid\n",
      "125: Data\\Classical_Archive\\debussy\\debussy_cc_4.mid\n",
      "126: Data\\Classical_Archive\\debussy\\debussy_cc_6.mid\n",
      "127: Data\\Classical_Archive\\debussy\\DEB_CLAI.MID\n"
     ]
    },
    {
     "name": "stderr",
     "output_type": "stream",
     "text": [
      "C:\\Users\\nikhi\\anaconda3\\envs\\tf\\lib\\site-packages\\music21\\midi\\translate.py:863: TranslateWarning: Unable to determine instrument from <music21.midi.MidiEvent SEQUENCE_TRACK_NAME, track=4, channel=None, data=b'Copyright \\xa9 1998 by Bernd Kr\\xfcger'>; getting generic Instrument\n",
      "  warnings.warn(\n"
     ]
    },
    {
     "name": "stdout",
     "output_type": "stream",
     "text": [
      "128: Data\\Classical_Archive\\debussy\\deb_menu.mid\n"
     ]
    },
    {
     "name": "stderr",
     "output_type": "stream",
     "text": [
      "C:\\Users\\nikhi\\anaconda3\\envs\\tf\\lib\\site-packages\\music21\\midi\\translate.py:863: TranslateWarning: Unable to determine instrument from <music21.midi.MidiEvent SEQUENCE_TRACK_NAME, track=5, channel=None, data=b'Copyright \\xa9 1998 by Bernd Kr\\xfcger'>; getting generic Instrument\n",
      "  warnings.warn(\n"
     ]
    },
    {
     "name": "stdout",
     "output_type": "stream",
     "text": [
      "129: Data\\Classical_Archive\\debussy\\DEB_PASS.MID\n",
      "130: Data\\Classical_Archive\\debussy\\deb_prel.mid\n",
      "131: Data\\Classical_Archive\\granados\\gra_esp_2.mid\n"
     ]
    },
    {
     "name": "stderr",
     "output_type": "stream",
     "text": [
      "C:\\Users\\nikhi\\anaconda3\\envs\\tf\\lib\\site-packages\\music21\\midi\\translate.py:863: TranslateWarning: Unable to determine instrument from <music21.midi.MidiEvent SEQUENCE_TRACK_NAME, track=4, channel=None, data=b'Copyright \\xa9 2001 by Bernd Kr\\xfcger'>; getting generic Instrument\n",
      "  warnings.warn(\n"
     ]
    },
    {
     "name": "stdout",
     "output_type": "stream",
     "text": [
      "132: Data\\Classical_Archive\\granados\\gra_esp_3.mid\n",
      "133: Data\\Classical_Archive\\granados\\gra_esp_4.mid\n",
      "134: Data\\Classical_Archive\\grieg\\grieg_album.mid\n"
     ]
    },
    {
     "name": "stderr",
     "output_type": "stream",
     "text": [
      "C:\\Users\\nikhi\\anaconda3\\envs\\tf\\lib\\site-packages\\music21\\midi\\translate.py:863: TranslateWarning: Unable to determine instrument from <music21.midi.MidiEvent SEQUENCE_TRACK_NAME, track=0, channel=None, data=b'Grieg: Lyrische St\\xfccke, Albumblatt, Opus 42 Nr. 2'>; getting generic Instrument\n",
      "  warnings.warn(\n"
     ]
    },
    {
     "name": "stdout",
     "output_type": "stream",
     "text": [
      "135: Data\\Classical_Archive\\grieg\\grieg_berceuse.mid\n"
     ]
    },
    {
     "name": "stderr",
     "output_type": "stream",
     "text": [
      "C:\\Users\\nikhi\\anaconda3\\envs\\tf\\lib\\site-packages\\music21\\midi\\translate.py:863: TranslateWarning: Unable to determine instrument from <music21.midi.MidiEvent SEQUENCE_TRACK_NAME, track=5, channel=None, data=b'Copyright \\xa9 2012 by Bernd Krueger'>; getting generic Instrument\n",
      "  warnings.warn(\n"
     ]
    },
    {
     "name": "stdout",
     "output_type": "stream",
     "text": [
      "136: Data\\Classical_Archive\\grieg\\grieg_brooklet.mid\n"
     ]
    },
    {
     "name": "stderr",
     "output_type": "stream",
     "text": [
      "C:\\Users\\nikhi\\anaconda3\\envs\\tf\\lib\\site-packages\\music21\\midi\\translate.py:863: TranslateWarning: Unable to determine instrument from <music21.midi.MidiEvent SEQUENCE_TRACK_NAME, track=0, channel=None, data=b'Grieg: Lyrische St\\xfccke, B\\xe4chlein, Opus 62 Nr. 4'>; getting generic Instrument\n",
      "  warnings.warn(\n"
     ]
    },
    {
     "name": "stdout",
     "output_type": "stream",
     "text": [
      "137: Data\\Classical_Archive\\grieg\\grieg_butterfly.mid\n"
     ]
    },
    {
     "name": "stderr",
     "output_type": "stream",
     "text": [
      "C:\\Users\\nikhi\\anaconda3\\envs\\tf\\lib\\site-packages\\music21\\midi\\translate.py:863: TranslateWarning: Unable to determine instrument from <music21.midi.MidiEvent SEQUENCE_TRACK_NAME, track=0, channel=None, data=b'Grieg: Lyrische St\\xfccke Op. 43 No. 1 - Schmetterling'>; getting generic Instrument\n",
      "  warnings.warn(\n",
      "C:\\Users\\nikhi\\anaconda3\\envs\\tf\\lib\\site-packages\\music21\\midi\\translate.py:863: TranslateWarning: Unable to determine instrument from <music21.midi.MidiEvent SEQUENCE_TRACK_NAME, track=5, channel=None, data=b'Copyright \\xa9 2007 by Bernd Krueger'>; getting generic Instrument\n",
      "  warnings.warn(\n"
     ]
    },
    {
     "name": "stdout",
     "output_type": "stream",
     "text": [
      "138: Data\\Classical_Archive\\grieg\\grieg_elfentanz.mid\n"
     ]
    },
    {
     "name": "stderr",
     "output_type": "stream",
     "text": [
      "C:\\Users\\nikhi\\anaconda3\\envs\\tf\\lib\\site-packages\\music21\\midi\\translate.py:863: TranslateWarning: Unable to determine instrument from <music21.midi.MidiEvent SEQUENCE_TRACK_NAME, track=0, channel=None, data=b'Grieg: Lyrische St\\xfccke Op. 12 Nr. 4 Elfentanz'>; getting generic Instrument\n",
      "  warnings.warn(\n"
     ]
    },
    {
     "name": "stdout",
     "output_type": "stream",
     "text": [
      "139: Data\\Classical_Archive\\grieg\\grieg_halling.mid\n"
     ]
    },
    {
     "name": "stderr",
     "output_type": "stream",
     "text": [
      "C:\\Users\\nikhi\\anaconda3\\envs\\tf\\lib\\site-packages\\music21\\midi\\translate.py:863: TranslateWarning: Unable to determine instrument from <music21.midi.MidiEvent SEQUENCE_TRACK_NAME, track=0, channel=None, data=b'Grieg: Lyrische St\\xfccke Book II Opus 38 Nr. 4 - Halling'>; getting generic Instrument\n",
      "  warnings.warn(\n"
     ]
    },
    {
     "name": "stdout",
     "output_type": "stream",
     "text": [
      "140: Data\\Classical_Archive\\grieg\\grieg_kobold.mid\n",
      "141: Data\\Classical_Archive\\grieg\\grieg_march.mid\n"
     ]
    },
    {
     "name": "stderr",
     "output_type": "stream",
     "text": [
      "C:\\Users\\nikhi\\anaconda3\\envs\\tf\\lib\\site-packages\\music21\\midi\\translate.py:863: TranslateWarning: Unable to determine instrument from <music21.midi.MidiEvent SEQUENCE_TRACK_NAME, track=0, channel=None, data=b'Grieg: Lyrische St\\xfccke, Norwegischer Bauernmarsch, Opus 54 Nr. 2'>; getting generic Instrument\n",
      "  warnings.warn(\n"
     ]
    },
    {
     "name": "stdout",
     "output_type": "stream",
     "text": [
      "142: Data\\Classical_Archive\\grieg\\grieg_once_upon_a_time.mid\n"
     ]
    },
    {
     "name": "stderr",
     "output_type": "stream",
     "text": [
      "C:\\Users\\nikhi\\anaconda3\\envs\\tf\\lib\\site-packages\\music21\\midi\\translate.py:863: TranslateWarning: Unable to determine instrument from <music21.midi.MidiEvent SEQUENCE_TRACK_NAME, track=0, channel=None, data=b'Grieg: Lyrische St\\xfccke, Es war einmal, Opus 71 Nr. 1'>; getting generic Instrument\n",
      "  warnings.warn(\n"
     ]
    },
    {
     "name": "stdout",
     "output_type": "stream",
     "text": [
      "143: Data\\Classical_Archive\\grieg\\grieg_spring.mid\n"
     ]
    },
    {
     "name": "stderr",
     "output_type": "stream",
     "text": [
      "C:\\Users\\nikhi\\anaconda3\\envs\\tf\\lib\\site-packages\\music21\\midi\\translate.py:863: TranslateWarning: Unable to determine instrument from <music21.midi.MidiEvent SEQUENCE_TRACK_NAME, track=0, channel=None, data=b'Grieg: Lyrische St\\xfccke Op. 43 Nr. 6 Book III - An den Fr\\xfchling'>; getting generic Instrument\n",
      "  warnings.warn(\n"
     ]
    },
    {
     "name": "stdout",
     "output_type": "stream",
     "text": [
      "144: Data\\Classical_Archive\\grieg\\grieg_voeglein.mid\n"
     ]
    },
    {
     "name": "stderr",
     "output_type": "stream",
     "text": [
      "C:\\Users\\nikhi\\anaconda3\\envs\\tf\\lib\\site-packages\\music21\\midi\\translate.py:863: TranslateWarning: Unable to determine instrument from <music21.midi.MidiEvent SEQUENCE_TRACK_NAME, track=0, channel=None, data=b'V\\xf6glein Op 43, No. 4'>; getting generic Instrument\n",
      "  warnings.warn(\n",
      "C:\\Users\\nikhi\\anaconda3\\envs\\tf\\lib\\site-packages\\music21\\midi\\translate.py:863: TranslateWarning: Unable to determine instrument from <music21.midi.MidiEvent SEQUENCE_TRACK_NAME, track=3, channel=None, data=b'Grieg: V\\xf6glein, Op. 43 No. 4'>; getting generic Instrument\n",
      "  warnings.warn(\n"
     ]
    },
    {
     "name": "stdout",
     "output_type": "stream",
     "text": [
      "145: Data\\Classical_Archive\\grieg\\grieg_waechter.mid\n"
     ]
    },
    {
     "name": "stderr",
     "output_type": "stream",
     "text": [
      "C:\\Users\\nikhi\\anaconda3\\envs\\tf\\lib\\site-packages\\music21\\midi\\translate.py:863: TranslateWarning: Unable to determine instrument from <music21.midi.MidiEvent SEQUENCE_TRACK_NAME, track=0, channel=None, data=b'W\\xe4chterlied Op12, No. 3'>; getting generic Instrument\n",
      "  warnings.warn(\n"
     ]
    },
    {
     "name": "stdout",
     "output_type": "stream",
     "text": [
      "146: Data\\Classical_Archive\\grieg\\grieg_walzer.mid\n",
      "147: Data\\Classical_Archive\\grieg\\grieg_wanderer.mid\n"
     ]
    },
    {
     "name": "stderr",
     "output_type": "stream",
     "text": [
      "C:\\Users\\nikhi\\anaconda3\\envs\\tf\\lib\\site-packages\\music21\\midi\\translate.py:863: TranslateWarning: Unable to determine instrument from <music21.midi.MidiEvent SEQUENCE_TRACK_NAME, track=0, channel=None, data=b'Grieg: Lyrische St\\xfccke Op. 43 Nr. 2 - Einsamer Wanderer'>; getting generic Instrument\n",
      "  warnings.warn(\n"
     ]
    },
    {
     "name": "stdout",
     "output_type": "stream",
     "text": [
      "148: Data\\Classical_Archive\\grieg\\grieg_wedding.mid\n",
      "149: Data\\Classical_Archive\\grieg\\grieg_zwerge.mid\n",
      "150: Data\\Classical_Archive\\haydn\\haydn_33_1.mid\n",
      "151: Data\\Classical_Archive\\haydn\\haydn_33_2.mid\n",
      "152: Data\\Classical_Archive\\haydn\\haydn_33_3.mid\n",
      "153: Data\\Classical_Archive\\haydn\\haydn_35_1.mid\n",
      "154: Data\\Classical_Archive\\haydn\\haydn_35_2.mid\n",
      "155: Data\\Classical_Archive\\haydn\\haydn_35_3.mid\n",
      "156: Data\\Classical_Archive\\haydn\\haydn_43_1.mid\n",
      "157: Data\\Classical_Archive\\haydn\\haydn_43_2.mid\n",
      "158: Data\\Classical_Archive\\haydn\\haydn_43_3.mid\n",
      "159: Data\\Classical_Archive\\haydn\\haydn_7_1.mid\n",
      "160: Data\\Classical_Archive\\haydn\\haydn_7_2.mid\n",
      "161: Data\\Classical_Archive\\haydn\\haydn_7_3.mid\n",
      "162: Data\\Classical_Archive\\haydn\\haydn_8_1.mid\n",
      "163: Data\\Classical_Archive\\haydn\\haydn_8_2.mid\n",
      "164: Data\\Classical_Archive\\haydn\\haydn_8_3.mid\n",
      "165: Data\\Classical_Archive\\haydn\\haydn_8_4.mid\n",
      "166: Data\\Classical_Archive\\haydn\\haydn_9_1.mid\n",
      "167: Data\\Classical_Archive\\haydn\\haydn_9_2.mid\n",
      "168: Data\\Classical_Archive\\haydn\\haydn_9_3.mid\n",
      "169: Data\\Classical_Archive\\haydn\\hay_40_1.mid\n",
      "170: Data\\Classical_Archive\\haydn\\hay_40_2.mid\n",
      "171: Data\\Classical_Archive\\liszt\\liz_donjuan.mid\n"
     ]
    },
    {
     "name": "stderr",
     "output_type": "stream",
     "text": [
      "C:\\Users\\nikhi\\anaconda3\\envs\\tf\\lib\\site-packages\\music21\\midi\\translate.py:863: TranslateWarning: Unable to determine instrument from <music21.midi.MidiEvent SEQUENCE_TRACK_NAME, track=6, channel=None, data=b'Copyright \\xa9 2004 by Bernd Kr\\xfcger'>; getting generic Instrument\n",
      "  warnings.warn(\n"
     ]
    },
    {
     "name": "stdout",
     "output_type": "stream",
     "text": [
      "172: Data\\Classical_Archive\\liszt\\liz_et1.mid\n",
      "173: Data\\Classical_Archive\\liszt\\liz_et2.mid\n",
      "174: Data\\Classical_Archive\\liszt\\liz_et3.mid\n",
      "175: Data\\Classical_Archive\\liszt\\liz_et4.mid\n",
      "176: Data\\Classical_Archive\\liszt\\liz_et5.mid\n",
      "177: Data\\Classical_Archive\\liszt\\liz_et6.mid\n",
      "178: Data\\Classical_Archive\\liszt\\liz_et_trans4.mid\n"
     ]
    },
    {
     "name": "stderr",
     "output_type": "stream",
     "text": [
      "C:\\Users\\nikhi\\anaconda3\\envs\\tf\\lib\\site-packages\\music21\\midi\\translate.py:863: TranslateWarning: Unable to determine instrument from <music21.midi.MidiEvent SEQUENCE_TRACK_NAME, track=5, channel=None, data=b'Copyright \\xa9 2006 by Bernd Krueger'>; getting generic Instrument\n",
      "  warnings.warn(\n"
     ]
    },
    {
     "name": "stdout",
     "output_type": "stream",
     "text": [
      "179: Data\\Classical_Archive\\liszt\\liz_et_trans5.mid\n",
      "180: Data\\Classical_Archive\\liszt\\liz_et_trans8.mid\n",
      "181: Data\\Classical_Archive\\liszt\\liz_liebestraum.mid\n",
      "182: Data\\Classical_Archive\\liszt\\liz_rhap02.mid\n",
      "183: Data\\Classical_Archive\\liszt\\liz_rhap09.mid\n",
      "184: Data\\Classical_Archive\\liszt\\liz_rhap10.mid\n",
      "185: Data\\Classical_Archive\\liszt\\liz_rhap12.mid\n",
      "186: Data\\Classical_Archive\\liszt\\liz_rhap15.mid\n",
      "187: Data\\Classical_Archive\\mendelssohn\\mendel_op19_1.mid\n"
     ]
    },
    {
     "name": "stderr",
     "output_type": "stream",
     "text": [
      "C:\\Users\\nikhi\\anaconda3\\envs\\tf\\lib\\site-packages\\music21\\midi\\translate.py:863: TranslateWarning: Unable to determine instrument from <music21.midi.MidiEvent SEQUENCE_TRACK_NAME, track=6, channel=None, data=b'Copyright \\xa9 2010 by Bernd Krueger'>; getting generic Instrument\n",
      "  warnings.warn(\n"
     ]
    },
    {
     "name": "stdout",
     "output_type": "stream",
     "text": [
      "188: Data\\Classical_Archive\\mendelssohn\\mendel_op19_2.mid\n",
      "FAILED: 188: Data\\Classical_Archive\\mendelssohn\\mendel_op19_2.mid\n",
      "189: Data\\Classical_Archive\\mendelssohn\\mendel_op19_3.mid\n"
     ]
    },
    {
     "name": "stderr",
     "output_type": "stream",
     "text": [
      "C:\\Users\\nikhi\\anaconda3\\envs\\tf\\lib\\site-packages\\music21\\midi\\translate.py:863: TranslateWarning: Unable to determine instrument from <music21.midi.MidiEvent SEQUENCE_TRACK_NAME, track=0, channel=None, data=b'J\\xe4gerlied'>; getting generic Instrument\n",
      "  warnings.warn(\n"
     ]
    },
    {
     "name": "stdout",
     "output_type": "stream",
     "text": [
      "190: Data\\Classical_Archive\\mendelssohn\\mendel_op19_4.mid\n",
      "191: Data\\Classical_Archive\\mendelssohn\\mendel_op19_5.mid\n",
      "192: Data\\Classical_Archive\\mendelssohn\\mendel_op19_6.mid\n",
      "193: Data\\Classical_Archive\\mendelssohn\\mendel_op30_1.mid\n"
     ]
    },
    {
     "name": "stderr",
     "output_type": "stream",
     "text": [
      "C:\\Users\\nikhi\\anaconda3\\envs\\tf\\lib\\site-packages\\music21\\midi\\translate.py:863: TranslateWarning: Unable to determine instrument from <music21.midi.MidiEvent SEQUENCE_TRACK_NAME, track=5, channel=None, data=b'Copyright \\xa9 2000 by Bernd Kr\\xfcger'>; getting generic Instrument\n",
      "  warnings.warn(\n"
     ]
    },
    {
     "name": "stdout",
     "output_type": "stream",
     "text": [
      "194: Data\\Classical_Archive\\mendelssohn\\mendel_op30_2.mid\n",
      "195: Data\\Classical_Archive\\mendelssohn\\mendel_op30_3.mid\n",
      "196: Data\\Classical_Archive\\mendelssohn\\mendel_op30_4.mid\n",
      "197: Data\\Classical_Archive\\mendelssohn\\mendel_op30_5.mid\n",
      "198: Data\\Classical_Archive\\mendelssohn\\mendel_op53_5.mid\n",
      "199: Data\\Classical_Archive\\mendelssohn\\mendel_op62_3.mid\n",
      "200: Data\\Classical_Archive\\mendelssohn\\mendel_op62_4.mid\n",
      "201: Data\\Classical_Archive\\mendelssohn\\mendel_op62_5.mid\n",
      "202: Data\\Classical_Archive\\mozart\\mz_311_1.mid\n"
     ]
    },
    {
     "name": "stderr",
     "output_type": "stream",
     "text": [
      "C:\\Users\\nikhi\\anaconda3\\envs\\tf\\lib\\site-packages\\music21\\midi\\translate.py:863: TranslateWarning: Unable to determine instrument from <music21.midi.MidiEvent SEQUENCE_TRACK_NAME, track=5, channel=None, data=b'Copyright \\xa9 2006 by Bernd Kr\\xfcger'>; getting generic Instrument\n",
      "  warnings.warn(\n"
     ]
    },
    {
     "name": "stdout",
     "output_type": "stream",
     "text": [
      "203: Data\\Classical_Archive\\mozart\\mz_311_2.mid\n",
      "204: Data\\Classical_Archive\\mozart\\mz_311_3.mid\n",
      "205: Data\\Classical_Archive\\mozart\\mz_330_1.mid\n"
     ]
    },
    {
     "name": "stderr",
     "output_type": "stream",
     "text": [
      "C:\\Users\\nikhi\\anaconda3\\envs\\tf\\lib\\site-packages\\music21\\midi\\translate.py:863: TranslateWarning: Unable to determine instrument from <music21.midi.MidiEvent SEQUENCE_TRACK_NAME, track=5, channel=None, data=b'Copyright \\xa9 1997 by Bernd Kr\\xfcger'>; getting generic Instrument\n",
      "  warnings.warn(\n"
     ]
    },
    {
     "name": "stdout",
     "output_type": "stream",
     "text": [
      "206: Data\\Classical_Archive\\mozart\\mz_330_2.mid\n",
      "207: Data\\Classical_Archive\\mozart\\mz_330_3.mid\n",
      "208: Data\\Classical_Archive\\mozart\\mz_331_1.mid\n",
      "209: Data\\Classical_Archive\\mozart\\mz_331_2.mid\n",
      "210: Data\\Classical_Archive\\mozart\\mz_331_3.mid\n",
      "211: Data\\Classical_Archive\\mozart\\mz_332_1.mid\n",
      "212: Data\\Classical_Archive\\mozart\\mz_332_2.mid\n",
      "213: Data\\Classical_Archive\\mozart\\mz_332_3.mid\n",
      "214: Data\\Classical_Archive\\mozart\\mz_333_1.mid\n",
      "215: Data\\Classical_Archive\\mozart\\mz_333_2.mid\n",
      "216: Data\\Classical_Archive\\mozart\\mz_333_3.mid\n",
      "217: Data\\Classical_Archive\\mozart\\mz_545_1.mid\n",
      "218: Data\\Classical_Archive\\mozart\\mz_545_2.mid\n",
      "219: Data\\Classical_Archive\\mozart\\mz_545_3.mid\n",
      "220: Data\\Classical_Archive\\mozart\\mz_570_1.mid\n",
      "221: Data\\Classical_Archive\\mozart\\mz_570_2.mid\n",
      "222: Data\\Classical_Archive\\mozart\\mz_570_3.mid\n",
      "223: Data\\Classical_Archive\\muss\\muss_1.mid\n",
      "224: Data\\Classical_Archive\\muss\\muss_2.mid\n"
     ]
    },
    {
     "name": "stderr",
     "output_type": "stream",
     "text": [
      "C:\\Users\\nikhi\\anaconda3\\envs\\tf\\lib\\site-packages\\music21\\midi\\translate.py:863: TranslateWarning: Unable to determine instrument from <music21.midi.MidiEvent SEQUENCE_TRACK_NAME, track=6, channel=None, data=b'Copyright \\xa9 2000 by Bernd Kr\\xfcger'>; getting generic Instrument\n",
      "  warnings.warn(\n"
     ]
    },
    {
     "name": "stdout",
     "output_type": "stream",
     "text": [
      "225: Data\\Classical_Archive\\muss\\muss_3.mid\n",
      "226: Data\\Classical_Archive\\muss\\muss_4.mid\n",
      "227: Data\\Classical_Archive\\muss\\muss_5.mid\n"
     ]
    },
    {
     "name": "stderr",
     "output_type": "stream",
     "text": [
      "C:\\Users\\nikhi\\anaconda3\\envs\\tf\\lib\\site-packages\\music21\\midi\\translate.py:863: TranslateWarning: Unable to determine instrument from <music21.midi.MidiEvent SEQUENCE_TRACK_NAME, track=0, channel=None, data=b'Promenade - Ballett der K\\xfcchlein  in ihren Eierschalen'>; getting generic Instrument\n",
      "  warnings.warn(\n"
     ]
    },
    {
     "name": "stdout",
     "output_type": "stream",
     "text": [
      "228: Data\\Classical_Archive\\muss\\muss_6.mid\n",
      "229: Data\\Classical_Archive\\muss\\muss_7.mid\n",
      "230: Data\\Classical_Archive\\muss\\muss_8.mid\n"
     ]
    },
    {
     "name": "stderr",
     "output_type": "stream",
     "text": [
      "C:\\Users\\nikhi\\anaconda3\\envs\\tf\\lib\\site-packages\\music21\\midi\\translate.py:863: TranslateWarning: Unable to determine instrument from <music21.midi.MidiEvent SEQUENCE_TRACK_NAME, track=0, channel=None, data=b'Baba-Yaga  - Das gro\\xdfe Tor von Kiew'>; getting generic Instrument\n",
      "  warnings.warn(\n"
     ]
    },
    {
     "name": "stdout",
     "output_type": "stream",
     "text": [
      "231: Data\\Classical_Archive\\schubert\\schubert_D850_1.mid\n",
      "232: Data\\Classical_Archive\\schubert\\schubert_D850_2.mid\n",
      "233: Data\\Classical_Archive\\schubert\\schubert_D850_3.mid\n",
      "234: Data\\Classical_Archive\\schubert\\schubert_D850_4.mid\n",
      "235: Data\\Classical_Archive\\schubert\\schubert_D935_1.mid\n",
      "236: Data\\Classical_Archive\\schubert\\schubert_D935_2.mid\n",
      "237: Data\\Classical_Archive\\schubert\\schubert_D935_3.mid\n",
      "238: Data\\Classical_Archive\\schubert\\schubert_D935_4.mid\n",
      "239: Data\\Classical_Archive\\schubert\\schub_d760_1.mid\n",
      "240: Data\\Classical_Archive\\schubert\\schub_d760_2.mid\n",
      "241: Data\\Classical_Archive\\schubert\\schub_d760_3.mid\n",
      "FAILED: 241: Data\\Classical_Archive\\schubert\\schub_d760_3.mid\n",
      "242: Data\\Classical_Archive\\schubert\\schub_d760_4.mid\n",
      "243: Data\\Classical_Archive\\schubert\\schub_d960_1.mid\n",
      "244: Data\\Classical_Archive\\schubert\\schub_d960_2.mid\n",
      "245: Data\\Classical_Archive\\schubert\\schub_d960_3.mid\n",
      "246: Data\\Classical_Archive\\schubert\\schub_d960_4.mid\n",
      "247: Data\\Classical_Archive\\schubert\\schuim-1.mid\n",
      "248: Data\\Classical_Archive\\schubert\\schuim-2.mid\n",
      "249: Data\\Classical_Archive\\schubert\\schuim-3.mid\n",
      "250: Data\\Classical_Archive\\schubert\\schuim-4.mid\n"
     ]
    },
    {
     "name": "stderr",
     "output_type": "stream",
     "text": [
      "C:\\Users\\nikhi\\anaconda3\\envs\\tf\\lib\\site-packages\\music21\\midi\\translate.py:863: TranslateWarning: Unable to determine instrument from <music21.midi.MidiEvent SEQUENCE_TRACK_NAME, track=4, channel=None, data=b'Copyright \\xa9 1996 by Bernd Krueger'>; getting generic Instrument\n",
      "  warnings.warn(\n"
     ]
    },
    {
     "name": "stdout",
     "output_type": "stream",
     "text": [
      "251: Data\\Classical_Archive\\schubert\\schumm-1.mid\n"
     ]
    },
    {
     "name": "stderr",
     "output_type": "stream",
     "text": [
      "C:\\Users\\nikhi\\anaconda3\\envs\\tf\\lib\\site-packages\\music21\\midi\\translate.py:863: TranslateWarning: Unable to determine instrument from <music21.midi.MidiEvent SEQUENCE_TRACK_NAME, track=4, channel=None, data=b'Copyright \\xa9 1999 by Bernd Krueger'>; getting generic Instrument\n",
      "  warnings.warn(\n"
     ]
    },
    {
     "name": "stdout",
     "output_type": "stream",
     "text": [
      "252: Data\\Classical_Archive\\schubert\\schumm-2.mid\n",
      "253: Data\\Classical_Archive\\schubert\\schumm-3.mid\n",
      "254: Data\\Classical_Archive\\schubert\\schumm-4.mid\n",
      "255: Data\\Classical_Archive\\schubert\\schumm-5.mid\n",
      "256: Data\\Classical_Archive\\schubert\\schumm-6.mid\n",
      "257: Data\\Classical_Archive\\schubert\\schu_143_1.mid\n",
      "258: Data\\Classical_Archive\\schubert\\schu_143_2.mid\n",
      "259: Data\\Classical_Archive\\schubert\\schu_143_3.mid\n",
      "260: Data\\Classical_Archive\\schumann\\schum_abegg.mid\n",
      "261: Data\\Classical_Archive\\schumann\\scn15_1.mid\n"
     ]
    },
    {
     "name": "stderr",
     "output_type": "stream",
     "text": [
      "C:\\Users\\nikhi\\anaconda3\\envs\\tf\\lib\\site-packages\\music21\\midi\\translate.py:863: TranslateWarning: Unable to determine instrument from <music21.midi.MidiEvent SEQUENCE_TRACK_NAME, track=0, channel=None, data=b'Von fremden L\\xe4ndern und Menschen'>; getting generic Instrument\n",
      "  warnings.warn(\n"
     ]
    },
    {
     "name": "stdout",
     "output_type": "stream",
     "text": [
      "262: Data\\Classical_Archive\\schumann\\scn15_10.mid\n",
      "263: Data\\Classical_Archive\\schumann\\scn15_11.mid\n"
     ]
    },
    {
     "name": "stderr",
     "output_type": "stream",
     "text": [
      "C:\\Users\\nikhi\\anaconda3\\envs\\tf\\lib\\site-packages\\music21\\midi\\translate.py:863: TranslateWarning: Unable to determine instrument from <music21.midi.MidiEvent SEQUENCE_TRACK_NAME, track=0, channel=None, data=b'F\\xfcrchtenmachen'>; getting generic Instrument\n",
      "  warnings.warn(\n"
     ]
    },
    {
     "name": "stdout",
     "output_type": "stream",
     "text": [
      "264: Data\\Classical_Archive\\schumann\\scn15_12.mid\n",
      "265: Data\\Classical_Archive\\schumann\\scn15_13.mid\n",
      "266: Data\\Classical_Archive\\schumann\\scn15_2.mid\n",
      "267: Data\\Classical_Archive\\schumann\\scn15_3.mid\n",
      "268: Data\\Classical_Archive\\schumann\\scn15_4.mid\n",
      "269: Data\\Classical_Archive\\schumann\\scn15_5.mid\n"
     ]
    },
    {
     "name": "stderr",
     "output_type": "stream",
     "text": [
      "C:\\Users\\nikhi\\anaconda3\\envs\\tf\\lib\\site-packages\\music21\\midi\\translate.py:863: TranslateWarning: Unable to determine instrument from <music21.midi.MidiEvent SEQUENCE_TRACK_NAME, track=0, channel=None, data=b'Gl\\xfcckes genug'>; getting generic Instrument\n",
      "  warnings.warn(\n"
     ]
    },
    {
     "name": "stdout",
     "output_type": "stream",
     "text": [
      "270: Data\\Classical_Archive\\schumann\\scn15_6.mid\n",
      "271: Data\\Classical_Archive\\schumann\\scn15_7.mid\n"
     ]
    },
    {
     "name": "stderr",
     "output_type": "stream",
     "text": [
      "C:\\Users\\nikhi\\anaconda3\\envs\\tf\\lib\\site-packages\\music21\\midi\\translate.py:863: TranslateWarning: Unable to determine instrument from <music21.midi.MidiEvent SEQUENCE_TRACK_NAME, track=0, channel=None, data=b'Tr\\xe4umerei'>; getting generic Instrument\n",
      "  warnings.warn(\n"
     ]
    },
    {
     "name": "stdout",
     "output_type": "stream",
     "text": [
      "272: Data\\Classical_Archive\\schumann\\scn15_8.mid\n",
      "273: Data\\Classical_Archive\\schumann\\scn15_9.mid\n",
      "274: Data\\Classical_Archive\\schumann\\scn16_1.mid\n",
      "275: Data\\Classical_Archive\\schumann\\scn16_2.mid\n",
      "276: Data\\Classical_Archive\\schumann\\scn16_3.mid\n",
      "277: Data\\Classical_Archive\\schumann\\scn16_4.mid\n",
      "278: Data\\Classical_Archive\\schumann\\scn16_5.mid\n",
      "279: Data\\Classical_Archive\\schumann\\scn16_6.mid\n",
      "280: Data\\Classical_Archive\\schumann\\scn16_7.mid\n",
      "281: Data\\Classical_Archive\\schumann\\scn16_8.mid\n",
      "282: Data\\Classical_Archive\\schumann\\scn68_10.mid\n"
     ]
    },
    {
     "name": "stderr",
     "output_type": "stream",
     "text": [
      "C:\\Users\\nikhi\\anaconda3\\envs\\tf\\lib\\site-packages\\music21\\midi\\translate.py:863: TranslateWarning: Unable to determine instrument from <music21.midi.MidiEvent SEQUENCE_TRACK_NAME, track=0, channel=None, data=b'Schumann:   Fr\\xf6hlicher Landmann, von der Arbeit zur\\xfcckkehrend'>; getting generic Instrument\n",
      "  warnings.warn(\n",
      "C:\\Users\\nikhi\\anaconda3\\envs\\tf\\lib\\site-packages\\music21\\midi\\translate.py:863: TranslateWarning: Unable to determine instrument from <music21.midi.MidiEvent SEQUENCE_TRACK_NAME, track=0, channel=None, data=b'aus Album f\\xfcr die Jugend Opus 68, Nr. 10'>; getting generic Instrument\n",
      "  warnings.warn(\n",
      "C:\\Users\\nikhi\\anaconda3\\envs\\tf\\lib\\site-packages\\music21\\midi\\translate.py:863: TranslateWarning: Unable to determine instrument from <music21.midi.MidiEvent SEQUENCE_TRACK_NAME, track=4, channel=None, data=b'Schumann: Fr\\xf6hlicher Landmann'>; getting generic Instrument\n",
      "  warnings.warn(\n"
     ]
    },
    {
     "name": "stdout",
     "output_type": "stream",
     "text": [
      "283: Data\\Classical_Archive\\schumann\\scn68_12.mid\n"
     ]
    },
    {
     "name": "stderr",
     "output_type": "stream",
     "text": [
      "C:\\Users\\nikhi\\anaconda3\\envs\\tf\\lib\\site-packages\\music21\\midi\\translate.py:863: TranslateWarning: Unable to determine instrument from <music21.midi.MidiEvent SEQUENCE_TRACK_NAME, track=0, channel=None, data=b'Schumann: Knecht Ruprecht aus  Album f\\xfcr die Jugend Opus 68'>; getting generic Instrument\n",
      "  warnings.warn(\n"
     ]
    },
    {
     "name": "stdout",
     "output_type": "stream",
     "text": [
      "284: Data\\Classical_Archive\\tschai\\ty_april.mid\n",
      "285: Data\\Classical_Archive\\tschai\\ty_august.mid\n",
      "286: Data\\Classical_Archive\\tschai\\ty_dezember.mid\n",
      "287: Data\\Classical_Archive\\tschai\\ty_februar.mid\n",
      "288: Data\\Classical_Archive\\tschai\\ty_januar.mid\n",
      "289: Data\\Classical_Archive\\tschai\\ty_juli.mid\n",
      "290: Data\\Classical_Archive\\tschai\\ty_juni.mid\n",
      "291: Data\\Classical_Archive\\tschai\\ty_maerz.mid\n",
      "292: Data\\Classical_Archive\\tschai\\ty_mai.mid\n",
      "293: Data\\Classical_Archive\\tschai\\ty_november.mid\n",
      "294: Data\\Classical_Archive\\tschai\\ty_oktober.mid\n",
      "295: Data\\Classical_Archive\\tschai\\ty_september.mid\n"
     ]
    }
   ],
   "source": [
    "# Extract notes and chords by instrument\n",
    "for i, file in enumerate(songs):\n",
    "    print(f\"{i+1}: {file}\")\n",
    "    try:\n",
    "        midi = converter.parse(file)\n",
    "        notes_to_parse = None\n",
    "        parts = instrument.partitionByInstrument(midi)\n",
    "        if parts:  # file has instrument parts\n",
    "            notes_to_parse = parts.parts[0].recurse()\n",
    "        else:  # file has notes in a flat structure\n",
    "            notes_to_parse = midi.flat.notes\n",
    "        for element in notes_to_parse:\n",
    "            if isinstance(element, note.Note):\n",
    "                notes.append(str(element.pitch))\n",
    "            elif isinstance(element, chord.Chord):\n",
    "                notes.append(\".\".join(str(n) for n in element.normalOrder))\n",
    "    except:\n",
    "        print(f\"FAILED: {i+1}: {file}\")"
   ]
  },
  {
   "cell_type": "code",
   "execution_count": 13,
   "id": "da0cf79a-2056-4782-9344-5e605a2d2594",
   "metadata": {},
   "outputs": [
    {
     "data": {
      "text/plain": [
       "['C2',\n",
       " 'E3',\n",
       " 'G3',\n",
       " 'C4',\n",
       " 'E4',\n",
       " 'G5',\n",
       " 'E3',\n",
       " 'G3',\n",
       " 'C4',\n",
       " 'E4',\n",
       " 'G5',\n",
       " 'E3',\n",
       " 'G3',\n",
       " 'C4',\n",
       " 'E4',\n",
       " 'E3',\n",
       " 'G3',\n",
       " 'E5',\n",
       " 'C4',\n",
       " 'D5',\n",
       " 'F3',\n",
       " 'G3',\n",
       " 'B3',\n",
       " 'D4',\n",
       " 'G4',\n",
       " 'F3',\n",
       " 'G3',\n",
       " 'B3',\n",
       " 'C5',\n",
       " 'E3',\n",
       " 'G3',\n",
       " 'C4',\n",
       " 'E4',\n",
       " 'E5',\n",
       " 'E3',\n",
       " 'G3',\n",
       " 'C4',\n",
       " 'C3',\n",
       " 'C2',\n",
       " 'E3',\n",
       " 'G3',\n",
       " 'C4',\n",
       " 'E4',\n",
       " 'G5',\n",
       " 'E3',\n",
       " 'G3',\n",
       " 'C4',\n",
       " 'E4',\n",
       " 'G5',\n",
       " 'E3',\n",
       " 'G3',\n",
       " 'C4',\n",
       " 'E4',\n",
       " 'E3',\n",
       " 'G3',\n",
       " 'E5',\n",
       " 'C4',\n",
       " 'D5',\n",
       " 'F3',\n",
       " 'G3',\n",
       " 'B3',\n",
       " 'D4',\n",
       " 'G4',\n",
       " 'F3',\n",
       " 'G3',\n",
       " 'B3',\n",
       " 'C5',\n",
       " 'E3',\n",
       " 'G3',\n",
       " 'C4',\n",
       " 'E4',\n",
       " 'D4',\n",
       " 'C4',\n",
       " 'G2',\n",
       " 'B3',\n",
       " 'G1',\n",
       " 'G3',\n",
       " 'B3',\n",
       " 'D4',\n",
       " 'G4',\n",
       " 'F5',\n",
       " 'G3',\n",
       " 'B3',\n",
       " 'D4',\n",
       " 'G4',\n",
       " 'F5',\n",
       " 'G3',\n",
       " 'B3',\n",
       " 'D4',\n",
       " 'G4',\n",
       " 'G3',\n",
       " 'B3',\n",
       " 'D5',\n",
       " 'G4',\n",
       " 'E5',\n",
       " 'G3',\n",
       " 'C4',\n",
       " 'G4',\n",
       " 'C5',\n",
       " 'G3',\n",
       " 'E4',\n",
       " 'G4',\n",
       " 'B4',\n",
       " 'G3',\n",
       " 'D4',\n",
       " 'G4',\n",
       " 'D5',\n",
       " 'G3',\n",
       " 'B3',\n",
       " 'G4',\n",
       " 'G2',\n",
       " 'G1',\n",
       " 'G3',\n",
       " 'B3',\n",
       " 'D4',\n",
       " 'G4',\n",
       " 'F5',\n",
       " 'G3',\n",
       " 'B3',\n",
       " 'D4',\n",
       " 'G4',\n",
       " 'F5',\n",
       " 'G3',\n",
       " 'B3',\n",
       " 'D4',\n",
       " 'G4',\n",
       " 'G3',\n",
       " 'B3',\n",
       " 'D5',\n",
       " 'G4',\n",
       " 'E-5',\n",
       " 'G3',\n",
       " 'C4',\n",
       " 'G4',\n",
       " 'C5',\n",
       " 'G3',\n",
       " 'E-4',\n",
       " 'G4',\n",
       " 'B4',\n",
       " 'G3',\n",
       " 'D4',\n",
       " 'G4',\n",
       " 'D5',\n",
       " 'G3',\n",
       " 'B3',\n",
       " 'G4',\n",
       " 'E5',\n",
       " 'G3',\n",
       " 'C4',\n",
       " 'G4',\n",
       " 'C5',\n",
       " 'G3',\n",
       " 'E4',\n",
       " 'G4',\n",
       " 'B4',\n",
       " 'G3',\n",
       " 'D4',\n",
       " 'G4',\n",
       " 'D5',\n",
       " 'G3',\n",
       " 'B3',\n",
       " 'G4',\n",
       " 'E-5',\n",
       " 'G3',\n",
       " 'C4',\n",
       " 'G4',\n",
       " 'C5',\n",
       " 'G3',\n",
       " 'C4',\n",
       " 'E-4',\n",
       " 'G5',\n",
       " 'G3',\n",
       " 'B3',\n",
       " 'D4',\n",
       " 'G5',\n",
       " 'G3',\n",
       " 'C4',\n",
       " 'E-4',\n",
       " 'G5',\n",
       " 'G3',\n",
       " 'B3',\n",
       " 'D4',\n",
       " 'G5',\n",
       " 'G3',\n",
       " 'C4',\n",
       " 'E-4',\n",
       " 'G5',\n",
       " 'G3',\n",
       " 'B3',\n",
       " 'D4',\n",
       " 'G5',\n",
       " 'G3',\n",
       " 'A3',\n",
       " 'C4',\n",
       " 'G5',\n",
       " 'G3',\n",
       " 'B3',\n",
       " 'D4',\n",
       " 'G4',\n",
       " 'B4',\n",
       " 'A4',\n",
       " 'F#4',\n",
       " 'G4',\n",
       " 'B3',\n",
       " 'D4',\n",
       " 'G4',\n",
       " 'B4',\n",
       " 'D5',\n",
       " 'C5',\n",
       " 'A4',\n",
       " 'B4',\n",
       " 'G4',\n",
       " 'B4',\n",
       " 'D5',\n",
       " 'G5',\n",
       " 'B5',\n",
       " 'A5',\n",
       " 'F#5',\n",
       " 'G5',\n",
       " 'B5',\n",
       " 'A5',\n",
       " 'C6',\n",
       " 'B5',\n",
       " 'D6',\n",
       " 'C#6',\n",
       " 'E6',\n",
       " 'D6',\n",
       " 'F6',\n",
       " 'E6',\n",
       " 'G6',\n",
       " 'F6',\n",
       " 'A6',\n",
       " 'F6',\n",
       " 'E6',\n",
       " 'D6',\n",
       " 'F6',\n",
       " 'E6',\n",
       " 'G6',\n",
       " 'F6',\n",
       " 'A6',\n",
       " 'F6',\n",
       " 'E6',\n",
       " 'D6',\n",
       " 'F6',\n",
       " 'E6',\n",
       " 'C6',\n",
       " 'B5',\n",
       " 'D6',\n",
       " 'C6',\n",
       " 'A5',\n",
       " 'G5',\n",
       " 'B5',\n",
       " 'A5',\n",
       " 'F5',\n",
       " 'E5',\n",
       " 'G5',\n",
       " 'F5',\n",
       " 'D5',\n",
       " 'C5',\n",
       " 'C2',\n",
       " 'G2',\n",
       " 'C3',\n",
       " 'E3',\n",
       " '7',\n",
       " 'G3',\n",
       " 'C3',\n",
       " 'E3',\n",
       " 'G3',\n",
       " '7',\n",
       " 'C4',\n",
       " 'E3',\n",
       " 'G3',\n",
       " 'C4',\n",
       " 'E4',\n",
       " 'G3',\n",
       " '4',\n",
       " 'C4',\n",
       " 'E4',\n",
       " '2',\n",
       " 'F4',\n",
       " 'E4',\n",
       " 'D4',\n",
       " 'C4',\n",
       " '7',\n",
       " 'B3',\n",
       " 'A3',\n",
       " 'G3',\n",
       " 'F3',\n",
       " '0',\n",
       " 'E3',\n",
       " 'G3',\n",
       " 'C3',\n",
       " 'E3',\n",
       " '4',\n",
       " 'G2',\n",
       " 'C3',\n",
       " 'E2',\n",
       " 'G2',\n",
       " 'C2',\n",
       " 'G2',\n",
       " 'C3',\n",
       " 'E3',\n",
       " '7',\n",
       " 'G3',\n",
       " 'C3',\n",
       " 'E3',\n",
       " 'G3',\n",
       " '7',\n",
       " 'C4',\n",
       " 'E3',\n",
       " 'G3',\n",
       " 'C4',\n",
       " 'E4',\n",
       " 'G3',\n",
       " '4',\n",
       " 'C4',\n",
       " 'E4',\n",
       " '2',\n",
       " 'F4',\n",
       " 'E4',\n",
       " 'D4',\n",
       " 'C4',\n",
       " '7',\n",
       " 'B3',\n",
       " 'G3',\n",
       " 'A3',\n",
       " 'B3',\n",
       " '0',\n",
       " 'C4',\n",
       " 'B3',\n",
       " 'A3',\n",
       " 'G3',\n",
       " 'F3',\n",
       " 'E3',\n",
       " 'D3',\n",
       " 'C3',\n",
       " 'G2',\n",
       " 'B2',\n",
       " 'D3',\n",
       " 'G3',\n",
       " '5',\n",
       " 'B2',\n",
       " 'D3',\n",
       " 'G3',\n",
       " 'B3',\n",
       " '5',\n",
       " 'D3',\n",
       " 'G3',\n",
       " 'B3',\n",
       " 'D4',\n",
       " 'G3',\n",
       " 'B3',\n",
       " '2',\n",
       " 'D4',\n",
       " 'G4',\n",
       " '4',\n",
       " 'G3',\n",
       " 'C4',\n",
       " 'G4',\n",
       " 'C4',\n",
       " '0',\n",
       " 'G3',\n",
       " 'E4',\n",
       " 'G4',\n",
       " 'E4',\n",
       " '11',\n",
       " 'G3',\n",
       " 'D4',\n",
       " 'G4',\n",
       " 'D4',\n",
       " '2',\n",
       " 'G3',\n",
       " 'B3',\n",
       " 'G4',\n",
       " 'B3',\n",
       " 'G2',\n",
       " 'B2',\n",
       " 'D3',\n",
       " 'G3',\n",
       " '5',\n",
       " 'B2',\n",
       " 'D3',\n",
       " 'G3',\n",
       " 'B3',\n",
       " '5',\n",
       " 'D3',\n",
       " 'G3',\n",
       " 'B3',\n",
       " 'D4',\n",
       " 'G3',\n",
       " 'B3',\n",
       " '2',\n",
       " 'D4',\n",
       " 'G4',\n",
       " '3',\n",
       " 'G3',\n",
       " 'C4',\n",
       " 'G4',\n",
       " 'C4',\n",
       " '0',\n",
       " 'G3',\n",
       " 'E-4',\n",
       " 'G4',\n",
       " 'E-4',\n",
       " '11',\n",
       " 'G3',\n",
       " 'D4',\n",
       " 'G4',\n",
       " 'D4',\n",
       " '2',\n",
       " 'G3',\n",
       " 'B3',\n",
       " 'G4',\n",
       " 'B3',\n",
       " '4',\n",
       " 'G3',\n",
       " 'C4',\n",
       " 'G4',\n",
       " 'C4',\n",
       " '0',\n",
       " 'G3',\n",
       " 'E4',\n",
       " 'G4',\n",
       " 'E4',\n",
       " '11',\n",
       " 'G3',\n",
       " 'D4',\n",
       " 'G4',\n",
       " 'D4',\n",
       " '2',\n",
       " 'G3',\n",
       " 'B3',\n",
       " 'G4',\n",
       " 'B3',\n",
       " '3',\n",
       " 'G3',\n",
       " 'C4',\n",
       " 'G4',\n",
       " 'C4',\n",
       " '0',\n",
       " 'G3',\n",
       " 'C4',\n",
       " 'E-4',\n",
       " 'C4',\n",
       " 'G5',\n",
       " 'G3',\n",
       " 'B3',\n",
       " 'D4',\n",
       " 'B3',\n",
       " 'G5',\n",
       " 'G3',\n",
       " 'C4',\n",
       " 'E-4',\n",
       " 'C4',\n",
       " '7.9',\n",
       " 'G3',\n",
       " 'B3',\n",
       " '7.9',\n",
       " 'D4',\n",
       " '7.9',\n",
       " 'B3',\n",
       " '7.9',\n",
       " 'G3',\n",
       " 'C4',\n",
       " '7.9',\n",
       " 'E4',\n",
       " '7.9',\n",
       " 'C4',\n",
       " '7.9',\n",
       " 'G3',\n",
       " 'B3',\n",
       " '7.9',\n",
       " 'D4',\n",
       " '7.9',\n",
       " 'B3',\n",
       " '7.9',\n",
       " 'G3',\n",
       " 'A3',\n",
       " '7.9',\n",
       " 'C4',\n",
       " '7.9',\n",
       " 'A3',\n",
       " '7.9',\n",
       " 'G3',\n",
       " 'B3',\n",
       " '7.9',\n",
       " 'A3',\n",
       " '7.9',\n",
       " 'G3',\n",
       " '7.9',\n",
       " 'F3',\n",
       " 'A3',\n",
       " '7.9',\n",
       " 'G3',\n",
       " '7.9',\n",
       " 'F3',\n",
       " '7.9',\n",
       " 'E3',\n",
       " 'G3',\n",
       " '7.9',\n",
       " 'F3',\n",
       " '7.9',\n",
       " 'E3',\n",
       " '7.9',\n",
       " 'D3',\n",
       " 'F3',\n",
       " '7.9',\n",
       " 'E3',\n",
       " '7.9',\n",
       " 'D3',\n",
       " '7.9',\n",
       " '0',\n",
       " '2.4',\n",
       " '7.9',\n",
       " '5.7',\n",
       " '7.9',\n",
       " '9.11',\n",
       " '7.9',\n",
       " 'G6',\n",
       " 'C4',\n",
       " '2.4',\n",
       " '7.9',\n",
       " '5.7',\n",
       " '7.9',\n",
       " '9.11',\n",
       " '7.9',\n",
       " 'G6',\n",
       " 'C5',\n",
       " 'B4',\n",
       " '7.9',\n",
       " 'A4',\n",
       " '7.9',\n",
       " 'G4',\n",
       " '7.9',\n",
       " 'F4',\n",
       " 'E4',\n",
       " '7.9',\n",
       " 'E6',\n",
       " 'D4',\n",
       " '7.9',\n",
       " 'C4',\n",
       " '7.9',\n",
       " 'D6',\n",
       " 'B3',\n",
       " 'C4',\n",
       " '7.9',\n",
       " 'B3',\n",
       " '7.9',\n",
       " 'A3',\n",
       " '7.9',\n",
       " 'G5',\n",
       " 'G3',\n",
       " 'F3',\n",
       " '7.9',\n",
       " 'E3',\n",
       " '7.9',\n",
       " 'D3',\n",
       " '7.9',\n",
       " 'C6',\n",
       " 'C3',\n",
       " 'C3',\n",
       " '7.9',\n",
       " 'B2',\n",
       " '7.9',\n",
       " 'A2',\n",
       " '7.9',\n",
       " 'E6',\n",
       " 'G2',\n",
       " 'F2',\n",
       " '7.9',\n",
       " 'E2',\n",
       " '7.9',\n",
       " 'D2',\n",
       " '7.9',\n",
       " '0',\n",
       " '2.4',\n",
       " '7.9',\n",
       " '5.7',\n",
       " '7.9',\n",
       " '9.11',\n",
       " '7.9',\n",
       " 'G6',\n",
       " 'C4',\n",
       " '2.4',\n",
       " '7.9',\n",
       " '5.7',\n",
       " '7.9',\n",
       " '9.11',\n",
       " '7.9',\n",
       " 'G6',\n",
       " 'C5',\n",
       " 'B4',\n",
       " '7.9',\n",
       " 'A4',\n",
       " '7.9',\n",
       " 'G4',\n",
       " '7.9',\n",
       " 'F4',\n",
       " 'E4',\n",
       " '7.9',\n",
       " 'E6',\n",
       " 'D4',\n",
       " '7.9',\n",
       " 'C4',\n",
       " '7.9',\n",
       " 'D6',\n",
       " 'B3',\n",
       " 'C4',\n",
       " '7.9',\n",
       " 'B3',\n",
       " '7.9',\n",
       " 'A3',\n",
       " '7.9',\n",
       " 'G5',\n",
       " 'G3',\n",
       " 'F3',\n",
       " '7.9',\n",
       " 'E3',\n",
       " '6.7',\n",
       " 'D3',\n",
       " 'C6',\n",
       " 'C3',\n",
       " 'C2',\n",
       " '0.4',\n",
       " '7.0',\n",
       " '0',\n",
       " '4.7',\n",
       " '0.5',\n",
       " '9.0',\n",
       " '0',\n",
       " '5.9',\n",
       " '0.4',\n",
       " '7.0',\n",
       " '0',\n",
       " '4.7',\n",
       " '0.2',\n",
       " '0.5',\n",
       " '0',\n",
       " '2.5',\n",
       " '0.3',\n",
       " '0.6',\n",
       " '0',\n",
       " '3.6',\n",
       " '0.4',\n",
       " '7.0',\n",
       " '0',\n",
       " '4.7',\n",
       " '11.2',\n",
       " '5.11',\n",
       " '0',\n",
       " '2.5',\n",
       " '7.0',\n",
       " '4.7',\n",
       " 'C2',\n",
       " '0.4',\n",
       " '4.7',\n",
       " '0.4',\n",
       " '0.4',\n",
       " '7.0',\n",
       " '5.9',\n",
       " '0.5',\n",
       " '0.5',\n",
       " '9.0',\n",
       " '4.7',\n",
       " '0.4',\n",
       " '0.4',\n",
       " '7.0',\n",
       " '2.5',\n",
       " '0.2',\n",
       " '0.2',\n",
       " '0.5',\n",
       " '3.6',\n",
       " '0.3',\n",
       " '0.3',\n",
       " '0.6',\n",
       " '4.7',\n",
       " '0.4',\n",
       " '0.4',\n",
       " '7.0',\n",
       " '2.5',\n",
       " '11.2',\n",
       " '0.2',\n",
       " '5.11',\n",
       " '0.4',\n",
       " '0.4',\n",
       " '0',\n",
       " '4',\n",
       " 'E2',\n",
       " '4',\n",
       " 'E2',\n",
       " '4',\n",
       " '9',\n",
       " '9',\n",
       " '11',\n",
       " '11',\n",
       " '0',\n",
       " '0',\n",
       " '2',\n",
       " '2',\n",
       " '4',\n",
       " '4',\n",
       " '4',\n",
       " '4',\n",
       " '4',\n",
       " '4',\n",
       " '2',\n",
       " '2',\n",
       " '0',\n",
       " '0',\n",
       " '11',\n",
       " '11',\n",
       " '0',\n",
       " '0',\n",
       " '9',\n",
       " '9',\n",
       " '4',\n",
       " 'E2',\n",
       " '4',\n",
       " '4',\n",
       " '4',\n",
       " '4',\n",
       " '4',\n",
       " '4',\n",
       " '9',\n",
       " '9',\n",
       " '11',\n",
       " '11',\n",
       " '0',\n",
       " '0',\n",
       " '2',\n",
       " '2',\n",
       " '4',\n",
       " '4',\n",
       " '4',\n",
       " '4',\n",
       " '4',\n",
       " '4',\n",
       " '2',\n",
       " '2',\n",
       " '0',\n",
       " '0',\n",
       " '11',\n",
       " '11',\n",
       " '0',\n",
       " '0',\n",
       " '9',\n",
       " '9',\n",
       " '4',\n",
       " '4',\n",
       " '4',\n",
       " '4',\n",
       " '9',\n",
       " '5.9',\n",
       " '9',\n",
       " '5.9',\n",
       " '9',\n",
       " '9',\n",
       " '4.9',\n",
       " '9',\n",
       " '4.9',\n",
       " '9',\n",
       " '9',\n",
       " '9.2',\n",
       " '9',\n",
       " '9.2',\n",
       " '9',\n",
       " '9',\n",
       " '9.0',\n",
       " '9',\n",
       " '9.0',\n",
       " '9',\n",
       " '5.7',\n",
       " '9.2',\n",
       " '5.9',\n",
       " '9.2',\n",
       " '2.4',\n",
       " '0.2',\n",
       " '4.9',\n",
       " '0.4',\n",
       " '4',\n",
       " '9.11',\n",
       " '11.0',\n",
       " '4',\n",
       " '11.2',\n",
       " '4',\n",
       " '8.9',\n",
       " '9',\n",
       " 'C2',\n",
       " 'A2',\n",
       " '9',\n",
       " 'G#2',\n",
       " '9',\n",
       " 'A2',\n",
       " '9',\n",
       " 'F2',\n",
       " 'A2',\n",
       " '9',\n",
       " 'G#2',\n",
       " '9',\n",
       " 'A2',\n",
       " '9',\n",
       " 'E2',\n",
       " 'A2',\n",
       " '9',\n",
       " 'G#2',\n",
       " '9',\n",
       " 'A2',\n",
       " '9',\n",
       " 'D2',\n",
       " 'A2',\n",
       " '9',\n",
       " 'G#2',\n",
       " '9',\n",
       " 'A2',\n",
       " '9',\n",
       " 'C2',\n",
       " 'A2',\n",
       " '9',\n",
       " 'G#2',\n",
       " '9',\n",
       " 'A2',\n",
       " '5.7',\n",
       " 'D2',\n",
       " 'A2',\n",
       " '5.9',\n",
       " 'D2',\n",
       " '2.4',\n",
       " 'A2',\n",
       " '0.2',\n",
       " 'E2',\n",
       " 'A2',\n",
       " '0.4',\n",
       " 'E2',\n",
       " '9.11',\n",
       " 'E3',\n",
       " '11.0',\n",
       " 'E2',\n",
       " 'E3',\n",
       " '11.2',\n",
       " 'E2',\n",
       " '8.9',\n",
       " 'E3',\n",
       " 'A3',\n",
       " 'A2',\n",
       " 'E3',\n",
       " 'C3',\n",
       " 'E3',\n",
       " '4',\n",
       " '9.11',\n",
       " 'E3',\n",
       " '4',\n",
       " '9.2',\n",
       " 'E3',\n",
       " '4',\n",
       " '9.0',\n",
       " 'E3',\n",
       " '4',\n",
       " '9.0',\n",
       " 'E3',\n",
       " '4',\n",
       " '9.11',\n",
       " 'E3',\n",
       " '8',\n",
       " '9.2',\n",
       " 'E3',\n",
       " '9',\n",
       " '9.0',\n",
       " 'A3',\n",
       " 'E3',\n",
       " 'A3',\n",
       " 'B5',\n",
       " '9.2',\n",
       " 'D6',\n",
       " 'G#3',\n",
       " 'C6',\n",
       " 'E3',\n",
       " 'B5',\n",
       " 'G#3',\n",
       " 'C6',\n",
       " '9.0',\n",
       " 'E6',\n",
       " 'A3',\n",
       " 'D6',\n",
       " 'E3',\n",
       " 'C6',\n",
       " 'A3',\n",
       " 'B5',\n",
       " '9.2',\n",
       " 'D6',\n",
       " 'G#3',\n",
       " 'C6',\n",
       " 'E3',\n",
       " 'B5',\n",
       " 'G#3',\n",
       " 'A5',\n",
       " '9.0',\n",
       " 'A3',\n",
       " 'E3',\n",
       " 'A3',\n",
       " '4',\n",
       " '9.11',\n",
       " 'E3',\n",
       " '4',\n",
       " '9.2',\n",
       " 'E3',\n",
       " '4',\n",
       " '9.0',\n",
       " 'E3',\n",
       " '4',\n",
       " '9.0',\n",
       " 'E3',\n",
       " '4',\n",
       " '9.11',\n",
       " 'E3',\n",
       " '8',\n",
       " '9.2',\n",
       " 'E3',\n",
       " '9',\n",
       " '9.0',\n",
       " 'A3',\n",
       " 'E3',\n",
       " 'A3',\n",
       " 'B5',\n",
       " '9.2',\n",
       " 'D6',\n",
       " 'G#3',\n",
       " 'C6',\n",
       " 'E3',\n",
       " 'B5',\n",
       " 'G#3',\n",
       " 'C6',\n",
       " '9.0',\n",
       " 'E6',\n",
       " 'A3',\n",
       " 'D6',\n",
       " 'E3',\n",
       " 'C6',\n",
       " 'A3',\n",
       " 'B5',\n",
       " '9.2',\n",
       " 'D6',\n",
       " 'G#3',\n",
       " 'C6',\n",
       " 'E3',\n",
       " 'B5',\n",
       " 'G#3',\n",
       " 'A5',\n",
       " '9.0',\n",
       " 'C6',\n",
       " 'A3',\n",
       " 'B5',\n",
       " 'E3',\n",
       " 'A5',\n",
       " 'A3',\n",
       " 'B5',\n",
       " '9.2',\n",
       " 'D6',\n",
       " 'G#3',\n",
       " 'C6',\n",
       " 'E3',\n",
       " 'B5',\n",
       " 'G#3',\n",
       " 'C6',\n",
       " '9.0',\n",
       " 'E6',\n",
       " 'A3',\n",
       " 'D6',\n",
       " 'E3',\n",
       " 'C6',\n",
       " 'A3',\n",
       " 'B5',\n",
       " '9.2',\n",
       " 'D6',\n",
       " 'G#3',\n",
       " 'C6',\n",
       " 'E3',\n",
       " 'B5',\n",
       " 'G#3',\n",
       " 'A5',\n",
       " '9.0',\n",
       " 'C6',\n",
       " 'A3',\n",
       " 'B5',\n",
       " 'E3',\n",
       " 'A5',\n",
       " 'A3',\n",
       " 'B5',\n",
       " '9.2',\n",
       " 'D6',\n",
       " 'G#3',\n",
       " 'C6',\n",
       " 'E3',\n",
       " 'B5',\n",
       " 'G#3',\n",
       " 'A5',\n",
       " '9.0',\n",
       " 'C6',\n",
       " 'A3',\n",
       " 'B5',\n",
       " 'E3',\n",
       " ...]"
      ]
     },
     "execution_count": 13,
     "metadata": {},
     "output_type": "execute_result"
    }
   ],
   "source": [
    "# Display the list of notes\n",
    "notes"
   ]
  },
  {
   "cell_type": "code",
   "execution_count": 12,
   "id": "f5541f86-9ec7-4aad-aeef-2d60efc81a53",
   "metadata": {},
   "outputs": [],
   "source": [
    "# Write the list to a file\n",
    "with open('notes.json', 'x') as file:\n",
    "    json.dump(notes, file)"
   ]
  }
 ],
 "metadata": {
  "kernelspec": {
   "display_name": "Python 3 (ipykernel)",
   "language": "python",
   "name": "python3"
  },
  "language_info": {
   "codemirror_mode": {
    "name": "ipython",
    "version": 3
   },
   "file_extension": ".py",
   "mimetype": "text/x-python",
   "name": "python",
   "nbconvert_exporter": "python",
   "pygments_lexer": "ipython3",
   "version": "3.9.19"
  }
 },
 "nbformat": 4,
 "nbformat_minor": 5
}
