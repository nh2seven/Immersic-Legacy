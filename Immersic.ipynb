{
 "cells": [
  {
   "cell_type": "code",
   "execution_count": 1,
   "metadata": {},
   "outputs": [],
   "source": [
    "import numpy as np\n",
    "import pandas as pd\n",
    "import os\n",
    "import torch\n",
    "from torch.utils.data import Dataset, DataLoader\n",
    "from multiprocessing import Pool\n",
    "import pretty_midi as pm\n",
    "import fluidsynth as fs"
   ]
  },
  {
   "cell_type": "code",
   "execution_count": 7,
   "metadata": {},
   "outputs": [
    {
     "name": "stdout",
     "output_type": "stream",
     "text": [
      "PyTorch has access to 1 CUDA device(s).\n",
      "Device 0: NVIDIA GeForce RTX 4060 Laptop GPU\n"
     ]
    }
   ],
   "source": [
    "# Check if PyTorch has access to CUDA\n",
    "if torch.cuda.is_available():\n",
    "    device_count = torch.cuda.device_count()\n",
    "    print(f\"PyTorch has access to {device_count} CUDA device(s).\")\n",
    "\n",
    "    for i in range(device_count):\n",
    "        print(f\"Device {i}: {torch.cuda.get_device_name(i)}\")\n",
    "else:\n",
    "    print(\"PyTorch does not have access to CUDA.\")"
   ]
  },
  {
   "cell_type": "code",
   "execution_count": 18,
   "metadata": {},
   "outputs": [],
   "source": [
    "# Load the dataset using torch.utils.data.Dataset\n",
    "class LoadData(Dataset):\n",
    "    def __init__(self, csv_file, transform=None):\n",
    "        self.data = pd.read_csv(csv_file)\n",
    "        self.transform = transform\n",
    "\n",
    "    def __len__(self):\n",
    "        return len(self.data)\n",
    "    \n",
    "    def __getitem__(self, idx):\n",
    "        if torch.is_tensor(idx):\n",
    "            idx = idx.tolist()\n",
    "        \n",
    "        # Get the row at the specified index\n",
    "        row = self.data.iloc[idx]\n",
    "        \n",
    "        # Get the MIDI file path\n",
    "        midi_file = row[\"midi_file\"]\n",
    "        \n",
    "        # Get the MIDI file as a pretty_midi.PrettyMIDI object\n",
    "        midi = pm.PrettyMIDI(midi_file)\n",
    "        \n",
    "        # Get the MIDI file as a numpy array\n",
    "        midi_array = midi.get_piano_roll()\n",
    "        \n",
    "        # Get the MIDI file as a torch.Tensor\n",
    "        midi_tensor = torch.from_numpy(midi_array)\n",
    "        \n",
    "        # Get the label\n",
    "        label = row[\"label\"]\n",
    "        \n",
    "        # Get the label as a torch.Tensor\n",
    "        label_tensor = torch.tensor(label)\n",
    "        \n",
    "        sample = {\"midi\": midi_tensor, \"label\": label_tensor}\n",
    "        \n",
    "        if self.transform:\n",
    "            sample = self.transform(sample)\n",
    "        \n",
    "        return sample"
   ]
  },
  {
   "cell_type": "code",
   "execution_count": null,
   "metadata": {},
   "outputs": [],
   "source": [
    "# Load the dataset using torch.utils.data\n",
    "im = \"Data\\\\Preprocessed\\\\preprocessed_data.csv\"\n",
    "\n",
    "data = LoadData(im)\n",
    "batch_size = 10\n",
    "\n",
    "dataLoad = DataLoader(data, batch_size=batch_size, shuffle=True)"
   ]
  },
  {
   "cell_type": "code",
   "execution_count": null,
   "metadata": {},
   "outputs": [],
   "source": []
  }
 ],
 "metadata": {
  "kernelspec": {
   "display_name": "Python 3",
   "language": "python",
   "name": "python3"
  },
  "language_info": {
   "codemirror_mode": {
    "name": "ipython",
    "version": 3
   },
   "file_extension": ".py",
   "mimetype": "text/x-python",
   "name": "python",
   "nbconvert_exporter": "python",
   "pygments_lexer": "ipython3",
   "version": "3.11.9"
  }
 },
 "nbformat": 4,
 "nbformat_minor": 2
}
